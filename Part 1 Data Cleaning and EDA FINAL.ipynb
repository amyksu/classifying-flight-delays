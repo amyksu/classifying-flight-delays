{
 "cells": [
  {
   "cell_type": "markdown",
   "metadata": {},
   "source": [
    "# Purpose\n",
    "\n",
    "The purpose of this notebook is to clean and do some exploratory data analysis of the flight data that I obtained from the Bureau of Transportation Statistics website. I will use this data to categorize whether a flight will be delayed or not based on weather data obtained from DarkSky API. \n",
    "\n",
    "## Import Libraries"
   ]
  },
  {
   "cell_type": "code",
   "execution_count": 1,
   "metadata": {
    "ExecuteTime": {
     "end_time": "2019-07-23T22:48:33.948186Z",
     "start_time": "2019-07-23T22:48:31.806356Z"
    }
   },
   "outputs": [],
   "source": [
    "import pandas as pd\n",
    "import numpy as np\n",
    "import matplotlib.pyplot as plt\n",
    "import seaborn as sns\n",
    "%matplotlib inline\n",
    "sns.set(style='whitegrid', palette='pastel', font_scale=1.25)"
   ]
  },
  {
   "cell_type": "markdown",
   "metadata": {},
   "source": [
    "## Data Cleaning\n",
    "\n",
    "Before getting into any analysis, I will first do some cleaning of the data I obtained from both the Bureau of Transportation Statistics (BTS) and DarkSky API. First, I will import the data I gathered from the BTS. I will show my process using the data I gathered from February. As my process was the same for both January and February, I will only show one month."
   ]
  },
  {
   "cell_type": "code",
   "execution_count": 2,
   "metadata": {
    "ExecuteTime": {
     "end_time": "2019-07-23T22:48:38.534639Z",
     "start_time": "2019-07-23T22:48:35.138026Z"
    }
   },
   "outputs": [
    {
     "data": {
      "text/html": [
       "<div>\n",
       "<style scoped>\n",
       "    .dataframe tbody tr th:only-of-type {\n",
       "        vertical-align: middle;\n",
       "    }\n",
       "\n",
       "    .dataframe tbody tr th {\n",
       "        vertical-align: top;\n",
       "    }\n",
       "\n",
       "    .dataframe thead th {\n",
       "        text-align: right;\n",
       "    }\n",
       "</style>\n",
       "<table border=\"1\" class=\"dataframe\">\n",
       "  <thead>\n",
       "    <tr style=\"text-align: right;\">\n",
       "      <th></th>\n",
       "      <th>YEAR</th>\n",
       "      <th>MONTH</th>\n",
       "      <th>DAY_OF_WEEK</th>\n",
       "      <th>FL_DATE</th>\n",
       "      <th>OP_UNIQUE_CARRIER</th>\n",
       "      <th>TAIL_NUM</th>\n",
       "      <th>ORIGIN_AIRPORT_ID</th>\n",
       "      <th>ORIGIN_AIRPORT_SEQ_ID</th>\n",
       "      <th>ORIGIN</th>\n",
       "      <th>ORIGIN_CITY_NAME</th>\n",
       "      <th>...</th>\n",
       "      <th>DEP_DELAY</th>\n",
       "      <th>DEP_DELAY_NEW</th>\n",
       "      <th>CRS_ARR_TIME</th>\n",
       "      <th>ARR_TIME</th>\n",
       "      <th>ARR_DELAY</th>\n",
       "      <th>ARR_DELAY_NEW</th>\n",
       "      <th>ACTUAL_ELAPSED_TIME</th>\n",
       "      <th>FLIGHTS</th>\n",
       "      <th>DISTANCE</th>\n",
       "      <th>Unnamed: 24</th>\n",
       "    </tr>\n",
       "  </thead>\n",
       "  <tbody>\n",
       "    <tr>\n",
       "      <th>0</th>\n",
       "      <td>2019</td>\n",
       "      <td>2</td>\n",
       "      <td>5</td>\n",
       "      <td>2019-02-01</td>\n",
       "      <td>AA</td>\n",
       "      <td>N110AN</td>\n",
       "      <td>12478</td>\n",
       "      <td>1247805</td>\n",
       "      <td>JFK</td>\n",
       "      <td>New York, NY</td>\n",
       "      <td>...</td>\n",
       "      <td>-1.0</td>\n",
       "      <td>0.0</td>\n",
       "      <td>1133</td>\n",
       "      <td>1058.0</td>\n",
       "      <td>-35.0</td>\n",
       "      <td>0.0</td>\n",
       "      <td>359.0</td>\n",
       "      <td>1.0</td>\n",
       "      <td>2475.0</td>\n",
       "      <td>NaN</td>\n",
       "    </tr>\n",
       "    <tr>\n",
       "      <th>1</th>\n",
       "      <td>2019</td>\n",
       "      <td>2</td>\n",
       "      <td>6</td>\n",
       "      <td>2019-02-02</td>\n",
       "      <td>AA</td>\n",
       "      <td>N116AN</td>\n",
       "      <td>12478</td>\n",
       "      <td>1247805</td>\n",
       "      <td>JFK</td>\n",
       "      <td>New York, NY</td>\n",
       "      <td>...</td>\n",
       "      <td>49.0</td>\n",
       "      <td>49.0</td>\n",
       "      <td>1133</td>\n",
       "      <td>1156.0</td>\n",
       "      <td>23.0</td>\n",
       "      <td>23.0</td>\n",
       "      <td>367.0</td>\n",
       "      <td>1.0</td>\n",
       "      <td>2475.0</td>\n",
       "      <td>NaN</td>\n",
       "    </tr>\n",
       "    <tr>\n",
       "      <th>2</th>\n",
       "      <td>2019</td>\n",
       "      <td>2</td>\n",
       "      <td>7</td>\n",
       "      <td>2019-02-03</td>\n",
       "      <td>AA</td>\n",
       "      <td>N105NN</td>\n",
       "      <td>12478</td>\n",
       "      <td>1247805</td>\n",
       "      <td>JFK</td>\n",
       "      <td>New York, NY</td>\n",
       "      <td>...</td>\n",
       "      <td>-4.0</td>\n",
       "      <td>0.0</td>\n",
       "      <td>1133</td>\n",
       "      <td>1108.0</td>\n",
       "      <td>-25.0</td>\n",
       "      <td>0.0</td>\n",
       "      <td>372.0</td>\n",
       "      <td>1.0</td>\n",
       "      <td>2475.0</td>\n",
       "      <td>NaN</td>\n",
       "    </tr>\n",
       "    <tr>\n",
       "      <th>3</th>\n",
       "      <td>2019</td>\n",
       "      <td>2</td>\n",
       "      <td>1</td>\n",
       "      <td>2019-02-04</td>\n",
       "      <td>AA</td>\n",
       "      <td>N108NN</td>\n",
       "      <td>12478</td>\n",
       "      <td>1247805</td>\n",
       "      <td>JFK</td>\n",
       "      <td>New York, NY</td>\n",
       "      <td>...</td>\n",
       "      <td>-4.0</td>\n",
       "      <td>0.0</td>\n",
       "      <td>1133</td>\n",
       "      <td>1126.0</td>\n",
       "      <td>-7.0</td>\n",
       "      <td>0.0</td>\n",
       "      <td>390.0</td>\n",
       "      <td>1.0</td>\n",
       "      <td>2475.0</td>\n",
       "      <td>NaN</td>\n",
       "    </tr>\n",
       "    <tr>\n",
       "      <th>4</th>\n",
       "      <td>2019</td>\n",
       "      <td>2</td>\n",
       "      <td>2</td>\n",
       "      <td>2019-02-05</td>\n",
       "      <td>AA</td>\n",
       "      <td>N110AN</td>\n",
       "      <td>12478</td>\n",
       "      <td>1247805</td>\n",
       "      <td>JFK</td>\n",
       "      <td>New York, NY</td>\n",
       "      <td>...</td>\n",
       "      <td>-5.0</td>\n",
       "      <td>0.0</td>\n",
       "      <td>1133</td>\n",
       "      <td>1112.0</td>\n",
       "      <td>-21.0</td>\n",
       "      <td>0.0</td>\n",
       "      <td>377.0</td>\n",
       "      <td>1.0</td>\n",
       "      <td>2475.0</td>\n",
       "      <td>NaN</td>\n",
       "    </tr>\n",
       "  </tbody>\n",
       "</table>\n",
       "<p>5 rows × 25 columns</p>\n",
       "</div>"
      ],
      "text/plain": [
       "   YEAR  MONTH  DAY_OF_WEEK     FL_DATE OP_UNIQUE_CARRIER TAIL_NUM  \\\n",
       "0  2019      2            5  2019-02-01                AA   N110AN   \n",
       "1  2019      2            6  2019-02-02                AA   N116AN   \n",
       "2  2019      2            7  2019-02-03                AA   N105NN   \n",
       "3  2019      2            1  2019-02-04                AA   N108NN   \n",
       "4  2019      2            2  2019-02-05                AA   N110AN   \n",
       "\n",
       "   ORIGIN_AIRPORT_ID  ORIGIN_AIRPORT_SEQ_ID ORIGIN ORIGIN_CITY_NAME  \\\n",
       "0              12478                1247805    JFK     New York, NY   \n",
       "1              12478                1247805    JFK     New York, NY   \n",
       "2              12478                1247805    JFK     New York, NY   \n",
       "3              12478                1247805    JFK     New York, NY   \n",
       "4              12478                1247805    JFK     New York, NY   \n",
       "\n",
       "      ...       DEP_DELAY DEP_DELAY_NEW CRS_ARR_TIME  ARR_TIME  ARR_DELAY  \\\n",
       "0     ...            -1.0           0.0         1133    1058.0      -35.0   \n",
       "1     ...            49.0          49.0         1133    1156.0       23.0   \n",
       "2     ...            -4.0           0.0         1133    1108.0      -25.0   \n",
       "3     ...            -4.0           0.0         1133    1126.0       -7.0   \n",
       "4     ...            -5.0           0.0         1133    1112.0      -21.0   \n",
       "\n",
       "   ARR_DELAY_NEW  ACTUAL_ELAPSED_TIME  FLIGHTS  DISTANCE  Unnamed: 24  \n",
       "0            0.0                359.0      1.0    2475.0          NaN  \n",
       "1           23.0                367.0      1.0    2475.0          NaN  \n",
       "2            0.0                372.0      1.0    2475.0          NaN  \n",
       "3            0.0                390.0      1.0    2475.0          NaN  \n",
       "4            0.0                377.0      1.0    2475.0          NaN  \n",
       "\n",
       "[5 rows x 25 columns]"
      ]
     },
     "execution_count": 2,
     "metadata": {},
     "output_type": "execute_result"
    }
   ],
   "source": [
    "df = pd.read_csv('2019_2.csv')\n",
    "df.head()"
   ]
  },
  {
   "cell_type": "markdown",
   "metadata": {},
   "source": [
    "I will format the column names to lower case as well delete unnecessary information. This includes any columns that I will not be using as well as rows with missing data."
   ]
  },
  {
   "cell_type": "code",
   "execution_count": 3,
   "metadata": {
    "ExecuteTime": {
     "end_time": "2019-07-23T22:48:42.479697Z",
     "start_time": "2019-07-23T22:48:42.469829Z"
    }
   },
   "outputs": [
    {
     "data": {
      "text/plain": [
       "Index(['year', 'month', 'day_of_week', 'fl_date', 'op_unique_carrier',\n",
       "       'tail_num', 'origin_airport_id', 'origin_airport_seq_id', 'origin',\n",
       "       'origin_city_name', 'dest_airport_id', 'dest', 'dest_city_name',\n",
       "       'crs_dep_time', 'dep_time', 'dep_delay', 'dep_delay_new',\n",
       "       'crs_arr_time', 'arr_time', 'arr_delay', 'arr_delay_new',\n",
       "       'actual_elapsed_time', 'flights', 'distance', 'unnamed: 24'],\n",
       "      dtype='object')"
      ]
     },
     "execution_count": 3,
     "metadata": {},
     "output_type": "execute_result"
    }
   ],
   "source": [
    "# Strip spaces and lower case columns \n",
    "df.columns = [column.strip().lower() for column in df.columns]\n",
    "df.columns"
   ]
  },
  {
   "cell_type": "code",
   "execution_count": 4,
   "metadata": {
    "ExecuteTime": {
     "end_time": "2019-07-23T22:48:43.889392Z",
     "start_time": "2019-07-23T22:48:43.823684Z"
    }
   },
   "outputs": [],
   "source": [
    "# Drop unnecessary columns\n",
    "df.drop(['origin_airport_id', 'dest_airport_id', 'unnamed: 24'], axis=1, inplace=True)"
   ]
  },
  {
   "cell_type": "code",
   "execution_count": 5,
   "metadata": {
    "ExecuteTime": {
     "end_time": "2019-07-23T22:48:44.999280Z",
     "start_time": "2019-07-23T22:48:44.684051Z"
    }
   },
   "outputs": [
    {
     "name": "stdout",
     "output_type": "stream",
     "text": [
      "Data Retained:96.84 %\n"
     ]
    }
   ],
   "source": [
    "# Drop rows with missing data in columns that we will use for predicting\n",
    "total_rows = len(df.index)\n",
    "\n",
    "# Drop na's\n",
    "df.dropna(subset=['op_unique_carrier','origin','dest','crs_dep_time','crs_arr_time','arr_delay','distance'],inplace=True)\n",
    "data_kept = len(df.index)/total_rows\n",
    "print('Data Retained:'+str(round(data_kept*100,2))+' %')"
   ]
  },
  {
   "cell_type": "markdown",
   "metadata": {},
   "source": [
    "Next, I will get the planned departure and arrival hours and carrier description."
   ]
  },
  {
   "cell_type": "code",
   "execution_count": 6,
   "metadata": {
    "ExecuteTime": {
     "end_time": "2019-07-23T22:48:47.619831Z",
     "start_time": "2019-07-23T22:48:46.520407Z"
    }
   },
   "outputs": [],
   "source": [
    "df['dep_hour'] = df['crs_dep_time'].apply(lambda x: int(str(x)[:2]) if x>999 else int(str(x)[:1] if x>99 else 0))\n",
    "\n",
    "#For ARR_HOUR, take the actual arrival time\n",
    "df['arr_hour'] = df['arr_time'].apply(lambda x:int(str(x)[:2]) if x>999 else int(str(x)[:1] if x>99 else 0))\n",
    "df['arr_hour'] = df['arr_hour'].apply(lambda x:0 if x==24 else x)"
   ]
  },
  {
   "cell_type": "code",
   "execution_count": 7,
   "metadata": {
    "ExecuteTime": {
     "end_time": "2019-07-23T22:48:52.296252Z",
     "start_time": "2019-07-23T22:48:51.915331Z"
    }
   },
   "outputs": [
    {
     "data": {
      "text/html": [
       "<div>\n",
       "<style scoped>\n",
       "    .dataframe tbody tr th:only-of-type {\n",
       "        vertical-align: middle;\n",
       "    }\n",
       "\n",
       "    .dataframe tbody tr th {\n",
       "        vertical-align: top;\n",
       "    }\n",
       "\n",
       "    .dataframe thead th {\n",
       "        text-align: right;\n",
       "    }\n",
       "</style>\n",
       "<table border=\"1\" class=\"dataframe\">\n",
       "  <thead>\n",
       "    <tr style=\"text-align: right;\">\n",
       "      <th></th>\n",
       "      <th>year</th>\n",
       "      <th>month</th>\n",
       "      <th>day_of_week</th>\n",
       "      <th>fl_date</th>\n",
       "      <th>op_unique_carrier</th>\n",
       "      <th>tail_num</th>\n",
       "      <th>origin_airport_seq_id</th>\n",
       "      <th>origin</th>\n",
       "      <th>origin_city_name</th>\n",
       "      <th>dest</th>\n",
       "      <th>...</th>\n",
       "      <th>arr_time</th>\n",
       "      <th>arr_delay</th>\n",
       "      <th>arr_delay_new</th>\n",
       "      <th>actual_elapsed_time</th>\n",
       "      <th>flights</th>\n",
       "      <th>distance</th>\n",
       "      <th>dep_hour</th>\n",
       "      <th>arr_hour</th>\n",
       "      <th>Code</th>\n",
       "      <th>Description</th>\n",
       "    </tr>\n",
       "  </thead>\n",
       "  <tbody>\n",
       "    <tr>\n",
       "      <th>0</th>\n",
       "      <td>2019</td>\n",
       "      <td>2</td>\n",
       "      <td>5</td>\n",
       "      <td>2019-02-01</td>\n",
       "      <td>AA</td>\n",
       "      <td>N110AN</td>\n",
       "      <td>1247805</td>\n",
       "      <td>JFK</td>\n",
       "      <td>New York, NY</td>\n",
       "      <td>LAX</td>\n",
       "      <td>...</td>\n",
       "      <td>1058.0</td>\n",
       "      <td>-35.0</td>\n",
       "      <td>0.0</td>\n",
       "      <td>359.0</td>\n",
       "      <td>1.0</td>\n",
       "      <td>2475.0</td>\n",
       "      <td>8</td>\n",
       "      <td>10</td>\n",
       "      <td>AA</td>\n",
       "      <td>American Airlines Inc.</td>\n",
       "    </tr>\n",
       "    <tr>\n",
       "      <th>1</th>\n",
       "      <td>2019</td>\n",
       "      <td>2</td>\n",
       "      <td>6</td>\n",
       "      <td>2019-02-02</td>\n",
       "      <td>AA</td>\n",
       "      <td>N116AN</td>\n",
       "      <td>1247805</td>\n",
       "      <td>JFK</td>\n",
       "      <td>New York, NY</td>\n",
       "      <td>LAX</td>\n",
       "      <td>...</td>\n",
       "      <td>1156.0</td>\n",
       "      <td>23.0</td>\n",
       "      <td>23.0</td>\n",
       "      <td>367.0</td>\n",
       "      <td>1.0</td>\n",
       "      <td>2475.0</td>\n",
       "      <td>8</td>\n",
       "      <td>11</td>\n",
       "      <td>AA</td>\n",
       "      <td>American Airlines Inc.</td>\n",
       "    </tr>\n",
       "    <tr>\n",
       "      <th>2</th>\n",
       "      <td>2019</td>\n",
       "      <td>2</td>\n",
       "      <td>7</td>\n",
       "      <td>2019-02-03</td>\n",
       "      <td>AA</td>\n",
       "      <td>N105NN</td>\n",
       "      <td>1247805</td>\n",
       "      <td>JFK</td>\n",
       "      <td>New York, NY</td>\n",
       "      <td>LAX</td>\n",
       "      <td>...</td>\n",
       "      <td>1108.0</td>\n",
       "      <td>-25.0</td>\n",
       "      <td>0.0</td>\n",
       "      <td>372.0</td>\n",
       "      <td>1.0</td>\n",
       "      <td>2475.0</td>\n",
       "      <td>8</td>\n",
       "      <td>11</td>\n",
       "      <td>AA</td>\n",
       "      <td>American Airlines Inc.</td>\n",
       "    </tr>\n",
       "    <tr>\n",
       "      <th>3</th>\n",
       "      <td>2019</td>\n",
       "      <td>2</td>\n",
       "      <td>1</td>\n",
       "      <td>2019-02-04</td>\n",
       "      <td>AA</td>\n",
       "      <td>N108NN</td>\n",
       "      <td>1247805</td>\n",
       "      <td>JFK</td>\n",
       "      <td>New York, NY</td>\n",
       "      <td>LAX</td>\n",
       "      <td>...</td>\n",
       "      <td>1126.0</td>\n",
       "      <td>-7.0</td>\n",
       "      <td>0.0</td>\n",
       "      <td>390.0</td>\n",
       "      <td>1.0</td>\n",
       "      <td>2475.0</td>\n",
       "      <td>8</td>\n",
       "      <td>11</td>\n",
       "      <td>AA</td>\n",
       "      <td>American Airlines Inc.</td>\n",
       "    </tr>\n",
       "    <tr>\n",
       "      <th>4</th>\n",
       "      <td>2019</td>\n",
       "      <td>2</td>\n",
       "      <td>2</td>\n",
       "      <td>2019-02-05</td>\n",
       "      <td>AA</td>\n",
       "      <td>N110AN</td>\n",
       "      <td>1247805</td>\n",
       "      <td>JFK</td>\n",
       "      <td>New York, NY</td>\n",
       "      <td>LAX</td>\n",
       "      <td>...</td>\n",
       "      <td>1112.0</td>\n",
       "      <td>-21.0</td>\n",
       "      <td>0.0</td>\n",
       "      <td>377.0</td>\n",
       "      <td>1.0</td>\n",
       "      <td>2475.0</td>\n",
       "      <td>8</td>\n",
       "      <td>11</td>\n",
       "      <td>AA</td>\n",
       "      <td>American Airlines Inc.</td>\n",
       "    </tr>\n",
       "  </tbody>\n",
       "</table>\n",
       "<p>5 rows × 26 columns</p>\n",
       "</div>"
      ],
      "text/plain": [
       "   year  month  day_of_week     fl_date op_unique_carrier tail_num  \\\n",
       "0  2019      2            5  2019-02-01                AA   N110AN   \n",
       "1  2019      2            6  2019-02-02                AA   N116AN   \n",
       "2  2019      2            7  2019-02-03                AA   N105NN   \n",
       "3  2019      2            1  2019-02-04                AA   N108NN   \n",
       "4  2019      2            2  2019-02-05                AA   N110AN   \n",
       "\n",
       "   origin_airport_seq_id origin origin_city_name dest           ...            \\\n",
       "0                1247805    JFK     New York, NY  LAX           ...             \n",
       "1                1247805    JFK     New York, NY  LAX           ...             \n",
       "2                1247805    JFK     New York, NY  LAX           ...             \n",
       "3                1247805    JFK     New York, NY  LAX           ...             \n",
       "4                1247805    JFK     New York, NY  LAX           ...             \n",
       "\n",
       "  arr_time  arr_delay  arr_delay_new  actual_elapsed_time  flights  distance  \\\n",
       "0   1058.0      -35.0            0.0                359.0      1.0    2475.0   \n",
       "1   1156.0       23.0           23.0                367.0      1.0    2475.0   \n",
       "2   1108.0      -25.0            0.0                372.0      1.0    2475.0   \n",
       "3   1126.0       -7.0            0.0                390.0      1.0    2475.0   \n",
       "4   1112.0      -21.0            0.0                377.0      1.0    2475.0   \n",
       "\n",
       "   dep_hour  arr_hour  Code             Description  \n",
       "0         8        10    AA  American Airlines Inc.  \n",
       "1         8        11    AA  American Airlines Inc.  \n",
       "2         8        11    AA  American Airlines Inc.  \n",
       "3         8        11    AA  American Airlines Inc.  \n",
       "4         8        11    AA  American Airlines Inc.  \n",
       "\n",
       "[5 rows x 26 columns]"
      ]
     },
     "execution_count": 7,
     "metadata": {},
     "output_type": "execute_result"
    }
   ],
   "source": [
    "# Add carrier descriptions\n",
    "carrier_key = pd.read_csv('L_UNIQUE_CARRIERS.csv')\n",
    "df = pd.merge(df,carrier_key,how='left', left_on='op_unique_carrier', right_on='Code')\n",
    "\n",
    "df.head()"
   ]
  },
  {
   "cell_type": "code",
   "execution_count": 8,
   "metadata": {
    "ExecuteTime": {
     "end_time": "2019-05-06T15:00:53.149663Z",
     "start_time": "2019-05-06T15:00:45.240904Z"
    }
   },
   "outputs": [],
   "source": [
    "# Save cleaned data\n",
    "df.to_csv('cleaned_airline_data_2_2019.csv',index=False)"
   ]
  },
  {
   "cell_type": "markdown",
   "metadata": {},
   "source": [
    "## Combine Data \n",
    "\n",
    "Now that I have cleaned my febraury data, I will now combine it with the data I gathered from January that I had saved earlier."
   ]
  },
  {
   "cell_type": "code",
   "execution_count": 8,
   "metadata": {
    "ExecuteTime": {
     "end_time": "2019-07-23T22:49:02.141155Z",
     "start_time": "2019-07-23T22:48:58.283325Z"
    }
   },
   "outputs": [
    {
     "data": {
      "text/html": [
       "<div>\n",
       "<style scoped>\n",
       "    .dataframe tbody tr th:only-of-type {\n",
       "        vertical-align: middle;\n",
       "    }\n",
       "\n",
       "    .dataframe tbody tr th {\n",
       "        vertical-align: top;\n",
       "    }\n",
       "\n",
       "    .dataframe thead th {\n",
       "        text-align: right;\n",
       "    }\n",
       "</style>\n",
       "<table border=\"1\" class=\"dataframe\">\n",
       "  <thead>\n",
       "    <tr style=\"text-align: right;\">\n",
       "      <th></th>\n",
       "      <th>year</th>\n",
       "      <th>month</th>\n",
       "      <th>day_of_month</th>\n",
       "      <th>day_of_week</th>\n",
       "      <th>fl_date</th>\n",
       "      <th>op_unique_carrier</th>\n",
       "      <th>tail_num</th>\n",
       "      <th>op_carrier_fl_num</th>\n",
       "      <th>origin</th>\n",
       "      <th>origin_city_name</th>\n",
       "      <th>...</th>\n",
       "      <th>arr_delay_new</th>\n",
       "      <th>arr_del15</th>\n",
       "      <th>arr_delay_group</th>\n",
       "      <th>arr_time_blk</th>\n",
       "      <th>distance</th>\n",
       "      <th>distance_group</th>\n",
       "      <th>dep_hour</th>\n",
       "      <th>arr_hour</th>\n",
       "      <th>Code</th>\n",
       "      <th>Description</th>\n",
       "    </tr>\n",
       "  </thead>\n",
       "  <tbody>\n",
       "    <tr>\n",
       "      <th>0</th>\n",
       "      <td>2019</td>\n",
       "      <td>1</td>\n",
       "      <td>19</td>\n",
       "      <td>6</td>\n",
       "      <td>2019-01-19</td>\n",
       "      <td>9E</td>\n",
       "      <td>N176PQ</td>\n",
       "      <td>5245</td>\n",
       "      <td>MSP</td>\n",
       "      <td>Minneapolis, MN</td>\n",
       "      <td>...</td>\n",
       "      <td>0.0</td>\n",
       "      <td>0.0</td>\n",
       "      <td>-2.0</td>\n",
       "      <td>1800-1859</td>\n",
       "      <td>596.0</td>\n",
       "      <td>3</td>\n",
       "      <td>15</td>\n",
       "      <td>18</td>\n",
       "      <td>9E</td>\n",
       "      <td>Endeavor Air Inc.</td>\n",
       "    </tr>\n",
       "    <tr>\n",
       "      <th>1</th>\n",
       "      <td>2019</td>\n",
       "      <td>1</td>\n",
       "      <td>20</td>\n",
       "      <td>7</td>\n",
       "      <td>2019-01-20</td>\n",
       "      <td>9E</td>\n",
       "      <td>N309PQ</td>\n",
       "      <td>5245</td>\n",
       "      <td>MSP</td>\n",
       "      <td>Minneapolis, MN</td>\n",
       "      <td>...</td>\n",
       "      <td>0.0</td>\n",
       "      <td>0.0</td>\n",
       "      <td>-2.0</td>\n",
       "      <td>1900-1959</td>\n",
       "      <td>596.0</td>\n",
       "      <td>3</td>\n",
       "      <td>15</td>\n",
       "      <td>18</td>\n",
       "      <td>9E</td>\n",
       "      <td>Endeavor Air Inc.</td>\n",
       "    </tr>\n",
       "    <tr>\n",
       "      <th>2</th>\n",
       "      <td>2019</td>\n",
       "      <td>1</td>\n",
       "      <td>21</td>\n",
       "      <td>1</td>\n",
       "      <td>2019-01-21</td>\n",
       "      <td>9E</td>\n",
       "      <td>N176PQ</td>\n",
       "      <td>5245</td>\n",
       "      <td>MSP</td>\n",
       "      <td>Minneapolis, MN</td>\n",
       "      <td>...</td>\n",
       "      <td>0.0</td>\n",
       "      <td>0.0</td>\n",
       "      <td>-2.0</td>\n",
       "      <td>1900-1959</td>\n",
       "      <td>596.0</td>\n",
       "      <td>3</td>\n",
       "      <td>15</td>\n",
       "      <td>18</td>\n",
       "      <td>9E</td>\n",
       "      <td>Endeavor Air Inc.</td>\n",
       "    </tr>\n",
       "    <tr>\n",
       "      <th>3</th>\n",
       "      <td>2019</td>\n",
       "      <td>1</td>\n",
       "      <td>22</td>\n",
       "      <td>2</td>\n",
       "      <td>2019-01-22</td>\n",
       "      <td>9E</td>\n",
       "      <td>N135EV</td>\n",
       "      <td>5245</td>\n",
       "      <td>MSP</td>\n",
       "      <td>Minneapolis, MN</td>\n",
       "      <td>...</td>\n",
       "      <td>0.0</td>\n",
       "      <td>0.0</td>\n",
       "      <td>-2.0</td>\n",
       "      <td>1900-1959</td>\n",
       "      <td>596.0</td>\n",
       "      <td>3</td>\n",
       "      <td>15</td>\n",
       "      <td>18</td>\n",
       "      <td>9E</td>\n",
       "      <td>Endeavor Air Inc.</td>\n",
       "    </tr>\n",
       "    <tr>\n",
       "      <th>4</th>\n",
       "      <td>2019</td>\n",
       "      <td>1</td>\n",
       "      <td>23</td>\n",
       "      <td>3</td>\n",
       "      <td>2019-01-23</td>\n",
       "      <td>9E</td>\n",
       "      <td>N294PQ</td>\n",
       "      <td>5245</td>\n",
       "      <td>MSP</td>\n",
       "      <td>Minneapolis, MN</td>\n",
       "      <td>...</td>\n",
       "      <td>0.0</td>\n",
       "      <td>0.0</td>\n",
       "      <td>-1.0</td>\n",
       "      <td>1900-1959</td>\n",
       "      <td>596.0</td>\n",
       "      <td>3</td>\n",
       "      <td>15</td>\n",
       "      <td>18</td>\n",
       "      <td>9E</td>\n",
       "      <td>Endeavor Air Inc.</td>\n",
       "    </tr>\n",
       "  </tbody>\n",
       "</table>\n",
       "<p>5 rows × 34 columns</p>\n",
       "</div>"
      ],
      "text/plain": [
       "   year  month  day_of_month  day_of_week     fl_date op_unique_carrier  \\\n",
       "0  2019      1            19            6  2019-01-19                9E   \n",
       "1  2019      1            20            7  2019-01-20                9E   \n",
       "2  2019      1            21            1  2019-01-21                9E   \n",
       "3  2019      1            22            2  2019-01-22                9E   \n",
       "4  2019      1            23            3  2019-01-23                9E   \n",
       "\n",
       "  tail_num  op_carrier_fl_num origin origin_city_name        ...          \\\n",
       "0   N176PQ               5245    MSP  Minneapolis, MN        ...           \n",
       "1   N309PQ               5245    MSP  Minneapolis, MN        ...           \n",
       "2   N176PQ               5245    MSP  Minneapolis, MN        ...           \n",
       "3   N135EV               5245    MSP  Minneapolis, MN        ...           \n",
       "4   N294PQ               5245    MSP  Minneapolis, MN        ...           \n",
       "\n",
       "  arr_delay_new arr_del15 arr_delay_group arr_time_blk  distance  \\\n",
       "0           0.0       0.0            -2.0    1800-1859     596.0   \n",
       "1           0.0       0.0            -2.0    1900-1959     596.0   \n",
       "2           0.0       0.0            -2.0    1900-1959     596.0   \n",
       "3           0.0       0.0            -2.0    1900-1959     596.0   \n",
       "4           0.0       0.0            -1.0    1900-1959     596.0   \n",
       "\n",
       "   distance_group  dep_hour  arr_hour  Code        Description  \n",
       "0               3        15        18    9E  Endeavor Air Inc.  \n",
       "1               3        15        18    9E  Endeavor Air Inc.  \n",
       "2               3        15        18    9E  Endeavor Air Inc.  \n",
       "3               3        15        18    9E  Endeavor Air Inc.  \n",
       "4               3        15        18    9E  Endeavor Air Inc.  \n",
       "\n",
       "[5 rows x 34 columns]"
      ]
     },
     "execution_count": 8,
     "metadata": {},
     "output_type": "execute_result"
    }
   ],
   "source": [
    "df1 = pd.read_csv('cleaned_airline_data.csv')\n",
    "df1.head()"
   ]
  },
  {
   "cell_type": "code",
   "execution_count": 9,
   "metadata": {
    "ExecuteTime": {
     "end_time": "2019-07-23T22:49:02.988777Z",
     "start_time": "2019-07-23T22:49:02.978836Z"
    },
    "scrolled": true
   },
   "outputs": [
    {
     "data": {
      "text/plain": [
       "Index(['year', 'month', 'day_of_month', 'day_of_week', 'fl_date',\n",
       "       'op_unique_carrier', 'tail_num', 'op_carrier_fl_num', 'origin',\n",
       "       'origin_city_name', 'origin_state_abr', 'dest', 'dest_city_name',\n",
       "       'dest_state_abr', 'crs_dep_time', 'dep_time', 'dep_delay',\n",
       "       'dep_delay_new', 'dep_del15', 'dep_delay_group', 'dep_time_blk',\n",
       "       'crs_arr_time', 'arr_time', 'arr_delay', 'arr_delay_new', 'arr_del15',\n",
       "       'arr_delay_group', 'arr_time_blk', 'distance', 'distance_group',\n",
       "       'dep_hour', 'arr_hour', 'Code', 'Description'],\n",
       "      dtype='object')"
      ]
     },
     "execution_count": 9,
     "metadata": {},
     "output_type": "execute_result"
    }
   ],
   "source": [
    "df1.columns"
   ]
  },
  {
   "cell_type": "markdown",
   "metadata": {},
   "source": [
    "To ensure that I have the same columns in both datasets, I will drop some of the January columns that I do not need. Then, I will concatenate the two months using the concat function. Finally, I will save the file just in case. "
   ]
  },
  {
   "cell_type": "code",
   "execution_count": 10,
   "metadata": {
    "ExecuteTime": {
     "end_time": "2019-07-23T22:49:07.279531Z",
     "start_time": "2019-07-23T22:49:07.110970Z"
    }
   },
   "outputs": [],
   "source": [
    "df1.drop(['tail_num', 'op_carrier_fl_num','origin_state_abr','dest_state_abr','dep_del15'\n",
    "         , 'dep_delay_group', 'dep_time_blk','arr_del15',\n",
    "       'arr_delay_group', 'arr_time_blk', 'distance_group'],axis=1, inplace=True)"
   ]
  },
  {
   "cell_type": "code",
   "execution_count": 11,
   "metadata": {
    "ExecuteTime": {
     "end_time": "2019-07-23T22:49:08.609800Z",
     "start_time": "2019-07-23T22:49:08.602751Z"
    }
   },
   "outputs": [
    {
     "data": {
      "text/plain": [
       "Index(['year', 'month', 'day_of_week', 'fl_date', 'op_unique_carrier',\n",
       "       'tail_num', 'origin_airport_seq_id', 'origin', 'origin_city_name',\n",
       "       'dest', 'dest_city_name', 'crs_dep_time', 'dep_time', 'dep_delay',\n",
       "       'dep_delay_new', 'crs_arr_time', 'arr_time', 'arr_delay',\n",
       "       'arr_delay_new', 'actual_elapsed_time', 'flights', 'distance',\n",
       "       'dep_hour', 'arr_hour', 'Code', 'Description'],\n",
       "      dtype='object')"
      ]
     },
     "execution_count": 11,
     "metadata": {},
     "output_type": "execute_result"
    }
   ],
   "source": [
    "df.columns"
   ]
  },
  {
   "cell_type": "code",
   "execution_count": 15,
   "metadata": {
    "ExecuteTime": {
     "end_time": "2019-07-06T15:49:05.708437Z",
     "start_time": "2019-07-06T15:49:04.754131Z"
    }
   },
   "outputs": [],
   "source": [
    "combined_df = pd.concat([df, df1], join='inner')"
   ]
  },
  {
   "cell_type": "code",
   "execution_count": 16,
   "metadata": {
    "ExecuteTime": {
     "end_time": "2019-07-06T15:49:08.019002Z",
     "start_time": "2019-07-06T15:49:07.916968Z"
    }
   },
   "outputs": [],
   "source": [
    "combined_df = df"
   ]
  },
  {
   "cell_type": "code",
   "execution_count": 17,
   "metadata": {
    "ExecuteTime": {
     "end_time": "2019-07-06T15:49:18.077026Z",
     "start_time": "2019-07-06T15:49:08.767392Z"
    }
   },
   "outputs": [],
   "source": [
    "# Save both months together \n",
    "df.to_csv('cleaned_airline_janfeb.csv', index=False)"
   ]
  },
  {
   "cell_type": "markdown",
   "metadata": {},
   "source": [
    "## Exploratory Data Analysis\n",
    "\n",
    "Now that I have cleaned the data, I will do some exploratory data analysis. \n",
    "\n",
    "First, I will take a look at the total number of flights in my dataset, the average number of flights per day, the percent of flights with delays greater than 15 min, which is what I  "
   ]
  },
  {
   "cell_type": "code",
   "execution_count": 12,
   "metadata": {
    "ExecuteTime": {
     "end_time": "2019-07-23T22:49:15.326850Z",
     "start_time": "2019-07-23T22:49:15.321154Z"
    }
   },
   "outputs": [
    {
     "data": {
      "text/plain": [
       "516314"
      ]
     },
     "execution_count": 12,
     "metadata": {},
     "output_type": "execute_result"
    }
   ],
   "source": [
    "# total number of flights \n",
    "len(df.index)"
   ]
  },
  {
   "cell_type": "code",
   "execution_count": 13,
   "metadata": {
    "ExecuteTime": {
     "end_time": "2019-07-23T22:49:16.712029Z",
     "start_time": "2019-07-23T22:49:16.705922Z"
    }
   },
   "outputs": [
    {
     "data": {
      "text/plain": [
       "16655.290322580644"
      ]
     },
     "execution_count": 13,
     "metadata": {},
     "output_type": "execute_result"
    }
   ],
   "source": [
    "# Average number of flights per day\n",
    "len(df.index)/31"
   ]
  },
  {
   "cell_type": "code",
   "execution_count": 14,
   "metadata": {
    "ExecuteTime": {
     "end_time": "2019-07-23T22:49:18.028058Z",
     "start_time": "2019-07-23T22:49:17.638727Z"
    }
   },
   "outputs": [
    {
     "data": {
      "text/plain": [
       "0.22385989920862112"
      ]
     },
     "execution_count": 14,
     "metadata": {},
     "output_type": "execute_result"
    }
   ],
   "source": [
    "# Percent of flights with delays greater than 15 min\n",
    "len(df[df['arr_delay']>15].index)/len(df.index)"
   ]
  },
  {
   "cell_type": "code",
   "execution_count": 15,
   "metadata": {
    "ExecuteTime": {
     "end_time": "2019-07-23T22:49:24.610417Z",
     "start_time": "2019-07-23T22:49:21.593547Z"
    }
   },
   "outputs": [],
   "source": [
    "df = pd.read_csv('cleaned_airline_janfeb.csv')"
   ]
  },
  {
   "cell_type": "code",
   "execution_count": 16,
   "metadata": {
    "ExecuteTime": {
     "end_time": "2019-07-23T22:49:25.167567Z",
     "start_time": "2019-07-23T22:49:25.095168Z"
    }
   },
   "outputs": [
    {
     "data": {
      "text/plain": [
       "ATL    27907\n",
       "ORD    22642\n",
       "DFW    20599\n",
       "CLT    17114\n",
       "DEN    16476\n",
       "LAX    15902\n",
       "PHX    13234\n",
       "IAH    13207\n",
       "LGA    12344\n",
       "SFO    11634\n",
       "LAS    11470\n",
       "DTW    10789\n",
       "MCO    10755\n",
       "MSP    10664\n",
       "DCA    10482\n",
       "BOS    10246\n",
       "EWR     9499\n",
       "JFK     9381\n",
       "SEA     8967\n",
       "SLC     8323\n",
       "PHL     8126\n",
       "FLL     7853\n",
       "MIA     7145\n",
       "SAN     6583\n",
       "BWI     6534\n",
       "TPA     5901\n",
       "BNA     5556\n",
       "DAL     5292\n",
       "MDW     5089\n",
       "STL     4642\n",
       "       ...  \n",
       "PSM       44\n",
       "INL       44\n",
       "CNY       43\n",
       "ART       43\n",
       "BRD       43\n",
       "IMT       43\n",
       "LCK       43\n",
       "LWB       42\n",
       "VEL       42\n",
       "LBL       41\n",
       "ALO       41\n",
       "OME       41\n",
       "ESC       41\n",
       "UIN       40\n",
       "HTS       37\n",
       "GUC       36\n",
       "SPN       35\n",
       "APN       33\n",
       "CYS       27\n",
       "ELM       27\n",
       "COD       26\n",
       "OTH       24\n",
       "STC       18\n",
       "OGS       15\n",
       "SMX       14\n",
       "OWB        8\n",
       "PPG        8\n",
       "OGD        8\n",
       "HGR        8\n",
       "ADK        7\n",
       "Name: dest, Length: 346, dtype: int64"
      ]
     },
     "execution_count": 16,
     "metadata": {},
     "output_type": "execute_result"
    }
   ],
   "source": [
    "df['dest'].value_counts()"
   ]
  },
  {
   "cell_type": "code",
   "execution_count": 17,
   "metadata": {
    "ExecuteTime": {
     "end_time": "2019-07-23T22:49:27.839143Z",
     "start_time": "2019-07-23T22:49:27.647278Z"
    },
    "scrolled": true
   },
   "outputs": [
    {
     "name": "stdout",
     "output_type": "stream",
     "text": [
      "['ATL', 'ORD', 'DFW', 'CLT', 'DEN', 'LAX', 'PHX', 'IAH', 'LGA', 'SFO', 'LAS', 'DTW', 'MCO', 'MSP', 'DCA', 'BOS', 'EWR', 'JFK', 'SEA', 'SLC']\n"
     ]
    },
    {
     "data": {
      "text/html": [
       "<div>\n",
       "<style scoped>\n",
       "    .dataframe tbody tr th:only-of-type {\n",
       "        vertical-align: middle;\n",
       "    }\n",
       "\n",
       "    .dataframe tbody tr th {\n",
       "        vertical-align: top;\n",
       "    }\n",
       "\n",
       "    .dataframe thead th {\n",
       "        text-align: right;\n",
       "    }\n",
       "</style>\n",
       "<table border=\"1\" class=\"dataframe\">\n",
       "  <thead>\n",
       "    <tr style=\"text-align: right;\">\n",
       "      <th></th>\n",
       "      <th>op_unique_carrier</th>\n",
       "      <th>origin</th>\n",
       "      <th>dest</th>\n",
       "      <th>arr_delay</th>\n",
       "      <th>arr_delay_new</th>\n",
       "      <th>Description</th>\n",
       "    </tr>\n",
       "  </thead>\n",
       "  <tbody>\n",
       "    <tr>\n",
       "      <th>0</th>\n",
       "      <td>AA</td>\n",
       "      <td>JFK</td>\n",
       "      <td>LAX</td>\n",
       "      <td>-35.0</td>\n",
       "      <td>0.0</td>\n",
       "      <td>American Airlines Inc.</td>\n",
       "    </tr>\n",
       "    <tr>\n",
       "      <th>1</th>\n",
       "      <td>AA</td>\n",
       "      <td>JFK</td>\n",
       "      <td>LAX</td>\n",
       "      <td>23.0</td>\n",
       "      <td>23.0</td>\n",
       "      <td>American Airlines Inc.</td>\n",
       "    </tr>\n",
       "    <tr>\n",
       "      <th>2</th>\n",
       "      <td>AA</td>\n",
       "      <td>JFK</td>\n",
       "      <td>LAX</td>\n",
       "      <td>-25.0</td>\n",
       "      <td>0.0</td>\n",
       "      <td>American Airlines Inc.</td>\n",
       "    </tr>\n",
       "    <tr>\n",
       "      <th>3</th>\n",
       "      <td>AA</td>\n",
       "      <td>JFK</td>\n",
       "      <td>LAX</td>\n",
       "      <td>-7.0</td>\n",
       "      <td>0.0</td>\n",
       "      <td>American Airlines Inc.</td>\n",
       "    </tr>\n",
       "    <tr>\n",
       "      <th>4</th>\n",
       "      <td>AA</td>\n",
       "      <td>JFK</td>\n",
       "      <td>LAX</td>\n",
       "      <td>-21.0</td>\n",
       "      <td>0.0</td>\n",
       "      <td>American Airlines Inc.</td>\n",
       "    </tr>\n",
       "  </tbody>\n",
       "</table>\n",
       "</div>"
      ],
      "text/plain": [
       "  op_unique_carrier origin dest  arr_delay  arr_delay_new  \\\n",
       "0                AA    JFK  LAX      -35.0            0.0   \n",
       "1                AA    JFK  LAX       23.0           23.0   \n",
       "2                AA    JFK  LAX      -25.0            0.0   \n",
       "3                AA    JFK  LAX       -7.0            0.0   \n",
       "4                AA    JFK  LAX      -21.0            0.0   \n",
       "\n",
       "              Description  \n",
       "0  American Airlines Inc.  \n",
       "1  American Airlines Inc.  \n",
       "2  American Airlines Inc.  \n",
       "3  American Airlines Inc.  \n",
       "4  American Airlines Inc.  "
      ]
     },
     "execution_count": 17,
     "metadata": {},
     "output_type": "execute_result"
    }
   ],
   "source": [
    "top20_dest = list(df['dest'].value_counts().head(20).index)\n",
    "print(top20_dest)\n",
    "top20_dest_df = df[df['dest'].isin(top20_dest)][['op_unique_carrier','origin','dest','arr_delay','arr_delay_new','Description']]\n",
    "top20_dest_df.head()"
   ]
  },
  {
   "cell_type": "code",
   "execution_count": 18,
   "metadata": {
    "ExecuteTime": {
     "end_time": "2019-07-23T22:49:29.937260Z",
     "start_time": "2019-07-23T22:49:29.879841Z"
    }
   },
   "outputs": [
    {
     "data": {
      "text/html": [
       "<div>\n",
       "<style scoped>\n",
       "    .dataframe tbody tr th:only-of-type {\n",
       "        vertical-align: middle;\n",
       "    }\n",
       "\n",
       "    .dataframe tbody tr th {\n",
       "        vertical-align: top;\n",
       "    }\n",
       "\n",
       "    .dataframe thead th {\n",
       "        text-align: right;\n",
       "    }\n",
       "</style>\n",
       "<table border=\"1\" class=\"dataframe\">\n",
       "  <thead>\n",
       "    <tr style=\"text-align: right;\">\n",
       "      <th></th>\n",
       "      <th>dest</th>\n",
       "      <th>arr_delay_new</th>\n",
       "    </tr>\n",
       "  </thead>\n",
       "  <tbody>\n",
       "    <tr>\n",
       "      <th>18</th>\n",
       "      <td>SFO</td>\n",
       "      <td>31.159704</td>\n",
       "    </tr>\n",
       "    <tr>\n",
       "      <th>15</th>\n",
       "      <td>ORD</td>\n",
       "      <td>28.047787</td>\n",
       "    </tr>\n",
       "    <tr>\n",
       "      <th>14</th>\n",
       "      <td>MSP</td>\n",
       "      <td>25.558233</td>\n",
       "    </tr>\n",
       "    <tr>\n",
       "      <th>7</th>\n",
       "      <td>EWR</td>\n",
       "      <td>21.626487</td>\n",
       "    </tr>\n",
       "    <tr>\n",
       "      <th>1</th>\n",
       "      <td>BOS</td>\n",
       "      <td>20.928655</td>\n",
       "    </tr>\n",
       "    <tr>\n",
       "      <th>17</th>\n",
       "      <td>SEA</td>\n",
       "      <td>19.420207</td>\n",
       "    </tr>\n",
       "    <tr>\n",
       "      <th>5</th>\n",
       "      <td>DFW</td>\n",
       "      <td>19.080441</td>\n",
       "    </tr>\n",
       "    <tr>\n",
       "      <th>10</th>\n",
       "      <td>LAS</td>\n",
       "      <td>19.021186</td>\n",
       "    </tr>\n",
       "    <tr>\n",
       "      <th>12</th>\n",
       "      <td>LGA</td>\n",
       "      <td>18.864064</td>\n",
       "    </tr>\n",
       "    <tr>\n",
       "      <th>6</th>\n",
       "      <td>DTW</td>\n",
       "      <td>16.958198</td>\n",
       "    </tr>\n",
       "    <tr>\n",
       "      <th>11</th>\n",
       "      <td>LAX</td>\n",
       "      <td>16.946107</td>\n",
       "    </tr>\n",
       "    <tr>\n",
       "      <th>4</th>\n",
       "      <td>DEN</td>\n",
       "      <td>16.750182</td>\n",
       "    </tr>\n",
       "    <tr>\n",
       "      <th>8</th>\n",
       "      <td>IAH</td>\n",
       "      <td>16.492315</td>\n",
       "    </tr>\n",
       "    <tr>\n",
       "      <th>9</th>\n",
       "      <td>JFK</td>\n",
       "      <td>16.376186</td>\n",
       "    </tr>\n",
       "    <tr>\n",
       "      <th>19</th>\n",
       "      <td>SLC</td>\n",
       "      <td>15.987625</td>\n",
       "    </tr>\n",
       "    <tr>\n",
       "      <th>3</th>\n",
       "      <td>DCA</td>\n",
       "      <td>15.527285</td>\n",
       "    </tr>\n",
       "    <tr>\n",
       "      <th>13</th>\n",
       "      <td>MCO</td>\n",
       "      <td>15.296513</td>\n",
       "    </tr>\n",
       "    <tr>\n",
       "      <th>16</th>\n",
       "      <td>PHX</td>\n",
       "      <td>15.276107</td>\n",
       "    </tr>\n",
       "    <tr>\n",
       "      <th>0</th>\n",
       "      <td>ATL</td>\n",
       "      <td>13.379296</td>\n",
       "    </tr>\n",
       "    <tr>\n",
       "      <th>2</th>\n",
       "      <td>CLT</td>\n",
       "      <td>12.836508</td>\n",
       "    </tr>\n",
       "  </tbody>\n",
       "</table>\n",
       "</div>"
      ],
      "text/plain": [
       "   dest  arr_delay_new\n",
       "18  SFO      31.159704\n",
       "15  ORD      28.047787\n",
       "14  MSP      25.558233\n",
       "7   EWR      21.626487\n",
       "1   BOS      20.928655\n",
       "17  SEA      19.420207\n",
       "5   DFW      19.080441\n",
       "10  LAS      19.021186\n",
       "12  LGA      18.864064\n",
       "6   DTW      16.958198\n",
       "11  LAX      16.946107\n",
       "4   DEN      16.750182\n",
       "8   IAH      16.492315\n",
       "9   JFK      16.376186\n",
       "19  SLC      15.987625\n",
       "3   DCA      15.527285\n",
       "13  MCO      15.296513\n",
       "16  PHX      15.276107\n",
       "0   ATL      13.379296\n",
       "2   CLT      12.836508"
      ]
     },
     "execution_count": 18,
     "metadata": {},
     "output_type": "execute_result"
    }
   ],
   "source": [
    "delays = (pd.DataFrame(top20_dest_df\n",
    "                       .groupby('dest', as_index=False)['arr_delay_new']\n",
    "                       .mean())\n",
    "          .sort_values(by='arr_delay_new', ascending=False))\n",
    "delays\n"
   ]
  },
  {
   "cell_type": "code",
   "execution_count": 19,
   "metadata": {
    "ExecuteTime": {
     "end_time": "2019-07-23T22:49:32.387170Z",
     "start_time": "2019-07-23T22:49:31.913726Z"
    }
   },
   "outputs": [
    {
     "data": {
      "image/png": "[encoded data removed]",
      "text/plain": [
       "<Figure size 720x576 with 1 Axes>"
      ]
     },
     "metadata": {
      "needs_background": "light"
     },
     "output_type": "display_data"
    }
   ],
   "source": [
    "plt.figure(figsize=(10,8))\n",
    "ax = sns.barplot(x='arr_delay_new',y='dest', data=delays, palette='GnBu_d')\n",
    "ax.set_title('Top 20 Airports and Average Delay in Minutes\\n')\n",
    "ax.set_ylabel('')\n",
    "ax.set_xlabel('Average Delay in Minutes')\n",
    "fig = ax.get_figure()\n",
    "\n",
    "for p in ax.patches:\n",
    "    width = p.get_width()\n",
    "    ax.text(width-1.5,\n",
    "           p.get_y()+p.get_height()/2. + 0.25,\n",
    "           '{:1.2f}'.format(width), ha='center', color='white', size='14', weight='bold')"
   ]
  },
  {
   "cell_type": "markdown",
   "metadata": {},
   "source": [
    "### Arrival Delay Visualizations \n",
    "\n",
    "I will next visualize the arrival delays for the top 20 airlines. The top 20 airlines are defined as the airlines with the top 20 most flights in our dataset."
   ]
  },
  {
   "cell_type": "code",
   "execution_count": 20,
   "metadata": {
    "ExecuteTime": {
     "end_time": "2019-07-23T22:49:58.480801Z",
     "start_time": "2019-07-23T22:49:58.403242Z"
    }
   },
   "outputs": [
    {
     "data": {
      "text/plain": [
       "WN    94683\n",
       "AA    70032\n",
       "DL    67117\n",
       "OO    56394\n",
       "UA    43441\n",
       "YX    22784\n",
       "B6    21983\n",
       "MQ    21813\n",
       "OH    20366\n",
       "AS    18039\n",
       "9E    17633\n",
       "YV    15909\n",
       "NK    13436\n",
       "EV    10880\n",
       "F9     8633\n",
       "G4     7157\n",
       "HA     6014\n",
       "Name: op_unique_carrier, dtype: int64"
      ]
     },
     "execution_count": 20,
     "metadata": {},
     "output_type": "execute_result"
    }
   ],
   "source": [
    "df['op_unique_carrier'].value_counts()"
   ]
  },
  {
   "cell_type": "code",
   "execution_count": 21,
   "metadata": {
    "ExecuteTime": {
     "end_time": "2019-07-23T22:50:01.022492Z",
     "start_time": "2019-07-23T22:50:00.785566Z"
    }
   },
   "outputs": [
    {
     "name": "stdout",
     "output_type": "stream",
     "text": [
      "['WN', 'AA', 'DL', 'OO', 'UA', 'YX', 'B6', 'MQ', 'OH', 'AS', '9E', 'YV', 'NK', 'EV', 'F9', 'G4', 'HA']\n"
     ]
    },
    {
     "data": {
      "text/html": [
       "<div>\n",
       "<style scoped>\n",
       "    .dataframe tbody tr th:only-of-type {\n",
       "        vertical-align: middle;\n",
       "    }\n",
       "\n",
       "    .dataframe tbody tr th {\n",
       "        vertical-align: top;\n",
       "    }\n",
       "\n",
       "    .dataframe thead th {\n",
       "        text-align: right;\n",
       "    }\n",
       "</style>\n",
       "<table border=\"1\" class=\"dataframe\">\n",
       "  <thead>\n",
       "    <tr style=\"text-align: right;\">\n",
       "      <th></th>\n",
       "      <th>op_unique_carrier</th>\n",
       "      <th>origin</th>\n",
       "      <th>dest</th>\n",
       "      <th>arr_delay</th>\n",
       "      <th>Description</th>\n",
       "    </tr>\n",
       "  </thead>\n",
       "  <tbody>\n",
       "    <tr>\n",
       "      <th>0</th>\n",
       "      <td>AA</td>\n",
       "      <td>JFK</td>\n",
       "      <td>LAX</td>\n",
       "      <td>-35.0</td>\n",
       "      <td>American Airlines Inc.</td>\n",
       "    </tr>\n",
       "    <tr>\n",
       "      <th>1</th>\n",
       "      <td>AA</td>\n",
       "      <td>JFK</td>\n",
       "      <td>LAX</td>\n",
       "      <td>23.0</td>\n",
       "      <td>American Airlines Inc.</td>\n",
       "    </tr>\n",
       "    <tr>\n",
       "      <th>2</th>\n",
       "      <td>AA</td>\n",
       "      <td>JFK</td>\n",
       "      <td>LAX</td>\n",
       "      <td>-25.0</td>\n",
       "      <td>American Airlines Inc.</td>\n",
       "    </tr>\n",
       "    <tr>\n",
       "      <th>3</th>\n",
       "      <td>AA</td>\n",
       "      <td>JFK</td>\n",
       "      <td>LAX</td>\n",
       "      <td>-7.0</td>\n",
       "      <td>American Airlines Inc.</td>\n",
       "    </tr>\n",
       "    <tr>\n",
       "      <th>4</th>\n",
       "      <td>AA</td>\n",
       "      <td>JFK</td>\n",
       "      <td>LAX</td>\n",
       "      <td>-21.0</td>\n",
       "      <td>American Airlines Inc.</td>\n",
       "    </tr>\n",
       "  </tbody>\n",
       "</table>\n",
       "</div>"
      ],
      "text/plain": [
       "  op_unique_carrier origin dest  arr_delay             Description\n",
       "0                AA    JFK  LAX      -35.0  American Airlines Inc.\n",
       "1                AA    JFK  LAX       23.0  American Airlines Inc.\n",
       "2                AA    JFK  LAX      -25.0  American Airlines Inc.\n",
       "3                AA    JFK  LAX       -7.0  American Airlines Inc.\n",
       "4                AA    JFK  LAX      -21.0  American Airlines Inc."
      ]
     },
     "execution_count": 21,
     "metadata": {},
     "output_type": "execute_result"
    }
   ],
   "source": [
    "top20 = list(df['op_unique_carrier'].value_counts().head(20).index)\n",
    "print(top20)\n",
    "top20_df = df[df['op_unique_carrier'].isin(top20)][['op_unique_carrier','origin','dest','arr_delay','Description']]\n",
    "top20_df.head()"
   ]
  },
  {
   "cell_type": "code",
   "execution_count": 22,
   "metadata": {
    "ExecuteTime": {
     "end_time": "2019-05-06T15:17:16.754466Z",
     "start_time": "2019-05-06T15:17:15.108939Z"
    }
   },
   "outputs": [
    {
     "data": {
      "text/html": [
       "<div>\n",
       "<style scoped>\n",
       "    .dataframe tbody tr th:only-of-type {\n",
       "        vertical-align: middle;\n",
       "    }\n",
       "\n",
       "    .dataframe tbody tr th {\n",
       "        vertical-align: top;\n",
       "    }\n",
       "\n",
       "    .dataframe thead th {\n",
       "        text-align: right;\n",
       "    }\n",
       "</style>\n",
       "<table border=\"1\" class=\"dataframe\">\n",
       "  <thead>\n",
       "    <tr style=\"text-align: right;\">\n",
       "      <th></th>\n",
       "      <th>op_unique_carrier</th>\n",
       "      <th>origin</th>\n",
       "      <th>dest</th>\n",
       "      <th>arr_delay</th>\n",
       "      <th>Description</th>\n",
       "    </tr>\n",
       "  </thead>\n",
       "  <tbody>\n",
       "    <tr>\n",
       "      <th>0</th>\n",
       "      <td>AA</td>\n",
       "      <td>JFK</td>\n",
       "      <td>LAX</td>\n",
       "      <td>-35.0</td>\n",
       "      <td>American Airlines Inc.</td>\n",
       "    </tr>\n",
       "    <tr>\n",
       "      <th>1</th>\n",
       "      <td>AA</td>\n",
       "      <td>JFK</td>\n",
       "      <td>LAX</td>\n",
       "      <td>23.0</td>\n",
       "      <td>American Airlines Inc.</td>\n",
       "    </tr>\n",
       "    <tr>\n",
       "      <th>2</th>\n",
       "      <td>AA</td>\n",
       "      <td>JFK</td>\n",
       "      <td>LAX</td>\n",
       "      <td>-25.0</td>\n",
       "      <td>American Airlines Inc.</td>\n",
       "    </tr>\n",
       "    <tr>\n",
       "      <th>3</th>\n",
       "      <td>AA</td>\n",
       "      <td>JFK</td>\n",
       "      <td>LAX</td>\n",
       "      <td>-7.0</td>\n",
       "      <td>American Airlines Inc.</td>\n",
       "    </tr>\n",
       "    <tr>\n",
       "      <th>4</th>\n",
       "      <td>AA</td>\n",
       "      <td>JFK</td>\n",
       "      <td>LAX</td>\n",
       "      <td>-21.0</td>\n",
       "      <td>American Airlines Inc.</td>\n",
       "    </tr>\n",
       "  </tbody>\n",
       "</table>\n",
       "</div>"
      ],
      "text/plain": [
       "  op_unique_carrier origin dest  arr_delay             Description\n",
       "0                AA    JFK  LAX      -35.0  American Airlines Inc.\n",
       "1                AA    JFK  LAX       23.0  American Airlines Inc.\n",
       "2                AA    JFK  LAX      -25.0  American Airlines Inc.\n",
       "3                AA    JFK  LAX       -7.0  American Airlines Inc.\n",
       "4                AA    JFK  LAX      -21.0  American Airlines Inc."
      ]
     },
     "execution_count": 22,
     "metadata": {},
     "output_type": "execute_result"
    }
   ],
   "source": [
    "top20_df.to_csv('top20_airlines_janfeb.csv', index=False)\n",
    "top20_df.head()"
   ]
  },
  {
   "cell_type": "markdown",
   "metadata": {},
   "source": [
    "Out of the 20 airlines that have had the most flights, let's take a look at who has had delays greater than 30 minutes. "
   ]
  },
  {
   "cell_type": "code",
   "execution_count": 24,
   "metadata": {
    "ExecuteTime": {
     "end_time": "2019-07-23T22:51:46.464022Z",
     "start_time": "2019-07-23T22:51:46.056207Z"
    }
   },
   "outputs": [],
   "source": [
    "temp_df = top20_df.copy()\n",
    "\n",
    "# Get delays greater than 30 minutes\n",
    "temp_df['arr_delay'] = temp_df['arr_delay'].apply(lambda x: 30 if x >=30 else x)\n",
    "temp_df['arr_delay'] = temp_df['arr_delay'].apply(lambda x: -30 if x <= -30 else x)"
   ]
  },
  {
   "cell_type": "code",
   "execution_count": 25,
   "metadata": {
    "ExecuteTime": {
     "end_time": "2019-07-23T22:51:52.522804Z",
     "start_time": "2019-07-23T22:51:51.530295Z"
    }
   },
   "outputs": [
    {
     "data": {
      "image/png": "[encoded data removed]",
      "text/plain": [
       "<Figure size 1440x360 with 1 Axes>"
      ]
     },
     "metadata": {
      "needs_background": "light"
     },
     "output_type": "display_data"
    }
   ],
   "source": [
    "plt.figure(figsize=(20,5))\n",
    "ax = sns.violinplot(x='Description', y='arr_delay', data=temp_df)\n",
    "ax.set_ylabel('Arrival Delay')\n",
    "label = ax.set_xticklabels(ax.get_xticklabels(), rotation=90)\n",
    "fig = ax.get_figure()"
   ]
  },
  {
   "cell_type": "markdown",
   "metadata": {},
   "source": [
    "As we can see from the above, the median for the top 20 airlines is around 0 to -10 minutes, meaning that most flights arrive before their scheduled time. The width of the plots at 30 represents the frequency of flights arriving 30 minutes or more after the scheduled arrival time.\n",
    "\n",
    "Next, we will plot the percentage of all flights delayed more than 30 minutes."
   ]
  },
  {
   "cell_type": "code",
   "execution_count": 26,
   "metadata": {
    "ExecuteTime": {
     "end_time": "2019-07-23T22:52:07.045880Z",
     "start_time": "2019-07-23T22:52:05.550369Z"
    }
   },
   "outputs": [
    {
     "data": {
      "text/html": [
       "<div>\n",
       "<style scoped>\n",
       "    .dataframe tbody tr th:only-of-type {\n",
       "        vertical-align: middle;\n",
       "    }\n",
       "\n",
       "    .dataframe tbody tr th {\n",
       "        vertical-align: top;\n",
       "    }\n",
       "\n",
       "    .dataframe thead th {\n",
       "        text-align: right;\n",
       "    }\n",
       "</style>\n",
       "<table border=\"1\" class=\"dataframe\">\n",
       "  <thead>\n",
       "    <tr style=\"text-align: right;\">\n",
       "      <th></th>\n",
       "      <th>percent_delayed</th>\n",
       "      <th>airline</th>\n",
       "    </tr>\n",
       "  </thead>\n",
       "  <tbody>\n",
       "    <tr>\n",
       "      <th>4</th>\n",
       "      <td>12.327708</td>\n",
       "      <td>JetBlue Airways</td>\n",
       "    </tr>\n",
       "    <tr>\n",
       "      <th>13</th>\n",
       "      <td>11.490584</td>\n",
       "      <td>SkyWest Airlines Inc.</td>\n",
       "    </tr>\n",
       "    <tr>\n",
       "      <th>16</th>\n",
       "      <td>10.376838</td>\n",
       "      <td>ExpressJet Airlines Inc.</td>\n",
       "    </tr>\n",
       "    <tr>\n",
       "      <th>6</th>\n",
       "      <td>9.874845</td>\n",
       "      <td>Envoy Air</td>\n",
       "    </tr>\n",
       "    <tr>\n",
       "      <th>12</th>\n",
       "      <td>9.734464</td>\n",
       "      <td>Alaska Airlines Inc.</td>\n",
       "    </tr>\n",
       "    <tr>\n",
       "      <th>9</th>\n",
       "      <td>9.058265</td>\n",
       "      <td>Frontier Airlines Inc.</td>\n",
       "    </tr>\n",
       "    <tr>\n",
       "      <th>7</th>\n",
       "      <td>8.976051</td>\n",
       "      <td>Mesa Airlines Inc.</td>\n",
       "    </tr>\n",
       "    <tr>\n",
       "      <th>2</th>\n",
       "      <td>8.591845</td>\n",
       "      <td>Endeavor Air Inc.</td>\n",
       "    </tr>\n",
       "    <tr>\n",
       "      <th>15</th>\n",
       "      <td>8.201761</td>\n",
       "      <td>Allegiant Air</td>\n",
       "    </tr>\n",
       "    <tr>\n",
       "      <th>14</th>\n",
       "      <td>8.077623</td>\n",
       "      <td>United Air Lines Inc.</td>\n",
       "    </tr>\n",
       "    <tr>\n",
       "      <th>5</th>\n",
       "      <td>7.770170</td>\n",
       "      <td>Spirit Air Lines</td>\n",
       "    </tr>\n",
       "    <tr>\n",
       "      <th>3</th>\n",
       "      <td>7.654915</td>\n",
       "      <td>PSA Airlines Inc.</td>\n",
       "    </tr>\n",
       "    <tr>\n",
       "      <th>0</th>\n",
       "      <td>6.572710</td>\n",
       "      <td>American Airlines Inc.</td>\n",
       "    </tr>\n",
       "    <tr>\n",
       "      <th>1</th>\n",
       "      <td>6.559784</td>\n",
       "      <td>Southwest Airlines Co.</td>\n",
       "    </tr>\n",
       "    <tr>\n",
       "      <th>8</th>\n",
       "      <td>6.276334</td>\n",
       "      <td>Republic Airline</td>\n",
       "    </tr>\n",
       "    <tr>\n",
       "      <th>11</th>\n",
       "      <td>5.926963</td>\n",
       "      <td>Delta Air Lines Inc.</td>\n",
       "    </tr>\n",
       "    <tr>\n",
       "      <th>10</th>\n",
       "      <td>2.876621</td>\n",
       "      <td>Hawaiian Airlines Inc.</td>\n",
       "    </tr>\n",
       "  </tbody>\n",
       "</table>\n",
       "</div>"
      ],
      "text/plain": [
       "    percent_delayed                   airline\n",
       "4         12.327708           JetBlue Airways\n",
       "13        11.490584     SkyWest Airlines Inc.\n",
       "16        10.376838  ExpressJet Airlines Inc.\n",
       "6          9.874845                 Envoy Air\n",
       "12         9.734464      Alaska Airlines Inc.\n",
       "9          9.058265    Frontier Airlines Inc.\n",
       "7          8.976051        Mesa Airlines Inc.\n",
       "2          8.591845         Endeavor Air Inc.\n",
       "15         8.201761             Allegiant Air\n",
       "14         8.077623     United Air Lines Inc.\n",
       "5          7.770170          Spirit Air Lines\n",
       "3          7.654915         PSA Airlines Inc.\n",
       "0          6.572710    American Airlines Inc.\n",
       "1          6.559784    Southwest Airlines Co.\n",
       "8          6.276334          Republic Airline\n",
       "11         5.926963      Delta Air Lines Inc.\n",
       "10         2.876621    Hawaiian Airlines Inc."
      ]
     },
     "execution_count": 26,
     "metadata": {},
     "output_type": "execute_result"
    }
   ],
   "source": [
    "delays = pd.DataFrame()\n",
    "\n",
    "for uc in list(df['op_unique_carrier'].unique()):\n",
    "    percent_delay = len(df[(df['op_unique_carrier']==uc) & (df['arr_delay']>=60)].index)/len(df[df['op_unique_carrier']==uc].index)*100\n",
    "    delays = delays.append({'op_unique_carrier': uc, 'percent_delayed': percent_delay}, ignore_index=True)\n",
    "\n",
    "delays = pd.merge(delays, carrier_key, how='left', left_on='op_unique_carrier', right_on='Code')\n",
    "delays.drop(['op_unique_carrier', 'Code'], axis=1, inplace=True)\n",
    "delays.rename(index=str, columns={'Description':'airline'}, inplace=True)\n",
    "delays.sort_values(by=['percent_delayed'], ascending=False, inplace=True)\n",
    "delays"
   ]
  },
  {
   "cell_type": "code",
   "execution_count": 28,
   "metadata": {
    "ExecuteTime": {
     "end_time": "2019-07-23T22:53:24.668326Z",
     "start_time": "2019-07-23T22:53:24.005827Z"
    },
    "scrolled": false
   },
   "outputs": [
    {
     "data": {
      "image/png": "[encoded data removed]",
      "text/plain": [
       "<Figure size 720x576 with 1 Axes>"
      ]
     },
     "metadata": {
      "needs_background": "light"
     },
     "output_type": "display_data"
    }
   ],
   "source": [
    "plt.figure(figsize=(10,8))\n",
    "ax = sns.barplot(x='percent_delayed', y='airline', data=delays, palette='GnBu_d')\n",
    "\n",
    "# Get delays greater than 30 minutes\n",
    "temp_df['arr_delay'] = temp_df['arr_delay'].apply(lambda x: 30 if x >=30 else x)\n",
    "temp_df['arr_delay'] = temp_df['arr_delay'].apply(lambda x: -30 if x <= -30 else x)\n",
    "ax.set_title('Top 20 Airlines and Percent of flights delayed more than 30 minutes\\n')\n",
    "ax.set_ylabel('')\n",
    "ax.set_xlabel('Percent of flights delayed more than 30 minutes')\n",
    "fig = ax.get_figure()\n",
    "\n",
    "for p in ax.patches:\n",
    "    width = p.get_width()\n",
    "    ax.text(width-0.7,\n",
    "           p.get_y()+p.get_height()/2. + 0.13,\n",
    "           '{:1.2f}%'.format(width), ha='center', color='white', size='14', weight='bold')"
   ]
  },
  {
   "cell_type": "markdown",
   "metadata": {},
   "source": [
    "### Airport Data Visualizations\n",
    "\n",
    "Now that I have explored the airlines with the most flights, I will now go into exploring the airports with the most traffic determines by the amount of departures and arrivals. \n",
    "\n",
    "First, I will determine the top 50 airports by combining the arrival and destination airports into one column. Then, I will perform a count using `value_counts` to select the top 50 airports. "
   ]
  },
  {
   "cell_type": "code",
   "execution_count": 29,
   "metadata": {
    "ExecuteTime": {
     "end_time": "2019-07-23T23:01:51.735920Z",
     "start_time": "2019-07-23T23:01:51.644940Z"
    }
   },
   "outputs": [],
   "source": [
    "airport = pd.DataFrame(pd.concat([df['origin'],df['dest']]),columns={'airports'})"
   ]
  },
  {
   "cell_type": "code",
   "execution_count": 30,
   "metadata": {
    "ExecuteTime": {
     "end_time": "2019-07-23T23:01:53.589131Z",
     "start_time": "2019-07-23T23:01:53.404165Z"
    }
   },
   "outputs": [
    {
     "data": {
      "text/html": [
       "<div>\n",
       "<style scoped>\n",
       "    .dataframe tbody tr th:only-of-type {\n",
       "        vertical-align: middle;\n",
       "    }\n",
       "\n",
       "    .dataframe tbody tr th {\n",
       "        vertical-align: top;\n",
       "    }\n",
       "\n",
       "    .dataframe thead th {\n",
       "        text-align: right;\n",
       "    }\n",
       "</style>\n",
       "<table border=\"1\" class=\"dataframe\">\n",
       "  <thead>\n",
       "    <tr style=\"text-align: right;\">\n",
       "      <th></th>\n",
       "      <th>airports</th>\n",
       "      <th>count</th>\n",
       "    </tr>\n",
       "  </thead>\n",
       "  <tbody>\n",
       "    <tr>\n",
       "      <th>0</th>\n",
       "      <td>ATL</td>\n",
       "      <td>55843</td>\n",
       "    </tr>\n",
       "    <tr>\n",
       "      <th>1</th>\n",
       "      <td>ORD</td>\n",
       "      <td>45320</td>\n",
       "    </tr>\n",
       "    <tr>\n",
       "      <th>2</th>\n",
       "      <td>DFW</td>\n",
       "      <td>41217</td>\n",
       "    </tr>\n",
       "    <tr>\n",
       "      <th>3</th>\n",
       "      <td>CLT</td>\n",
       "      <td>34260</td>\n",
       "    </tr>\n",
       "    <tr>\n",
       "      <th>4</th>\n",
       "      <td>DEN</td>\n",
       "      <td>32951</td>\n",
       "    </tr>\n",
       "  </tbody>\n",
       "</table>\n",
       "</div>"
      ],
      "text/plain": [
       "  airports  count\n",
       "0      ATL  55843\n",
       "1      ORD  45320\n",
       "2      DFW  41217\n",
       "3      CLT  34260\n",
       "4      DEN  32951"
      ]
     },
     "execution_count": 30,
     "metadata": {},
     "output_type": "execute_result"
    }
   ],
   "source": [
    "top20 = pd.DataFrame(airport['airports'].value_counts().head(20)).reset_index()\n",
    "top20.rename(index=str, columns={'index':'airports', 'airports':'count'},inplace=True)\n",
    "\n",
    "top20.head()"
   ]
  },
  {
   "cell_type": "markdown",
   "metadata": {},
   "source": [
    "Next, I will import the latitude and longitude of all of the airports in our data and merge the information so that I can plot them on a map."
   ]
  },
  {
   "cell_type": "code",
   "execution_count": 31,
   "metadata": {
    "ExecuteTime": {
     "end_time": "2019-07-23T23:01:55.747261Z",
     "start_time": "2019-07-23T23:01:55.715126Z"
    }
   },
   "outputs": [
    {
     "data": {
      "text/html": [
       "<div>\n",
       "<style scoped>\n",
       "    .dataframe tbody tr th:only-of-type {\n",
       "        vertical-align: middle;\n",
       "    }\n",
       "\n",
       "    .dataframe tbody tr th {\n",
       "        vertical-align: top;\n",
       "    }\n",
       "\n",
       "    .dataframe thead th {\n",
       "        text-align: right;\n",
       "    }\n",
       "</style>\n",
       "<table border=\"1\" class=\"dataframe\">\n",
       "  <thead>\n",
       "    <tr style=\"text-align: right;\">\n",
       "      <th></th>\n",
       "      <th>airports</th>\n",
       "      <th>latitude</th>\n",
       "      <th>longitude</th>\n",
       "    </tr>\n",
       "  </thead>\n",
       "  <tbody>\n",
       "    <tr>\n",
       "      <th>1</th>\n",
       "      <td>ABE</td>\n",
       "      <td>40.6514</td>\n",
       "      <td>-75.4342</td>\n",
       "    </tr>\n",
       "    <tr>\n",
       "      <th>2</th>\n",
       "      <td>ABI</td>\n",
       "      <td>32.4164</td>\n",
       "      <td>-99.6803</td>\n",
       "    </tr>\n",
       "    <tr>\n",
       "      <th>3</th>\n",
       "      <td>ABL</td>\n",
       "      <td>67.1058</td>\n",
       "      <td>-157.8540</td>\n",
       "    </tr>\n",
       "    <tr>\n",
       "      <th>4</th>\n",
       "      <td>ABQ</td>\n",
       "      <td>35.0494</td>\n",
       "      <td>-106.6250</td>\n",
       "    </tr>\n",
       "    <tr>\n",
       "      <th>5</th>\n",
       "      <td>ABR</td>\n",
       "      <td>45.4536</td>\n",
       "      <td>-98.4189</td>\n",
       "    </tr>\n",
       "  </tbody>\n",
       "</table>\n",
       "</div>"
      ],
      "text/plain": [
       "  airports  latitude  longitude\n",
       "1      ABE   40.6514   -75.4342\n",
       "2      ABI   32.4164   -99.6803\n",
       "3      ABL   67.1058  -157.8540\n",
       "4      ABQ   35.0494  -106.6250\n",
       "5      ABR   45.4536   -98.4189"
      ]
     },
     "execution_count": 31,
     "metadata": {},
     "output_type": "execute_result"
    }
   ],
   "source": [
    "latlong = pd.read_csv('airport_latlong.csv', names=['airports', 'latitude', 'longitude'])\n",
    "latlong.dropna(inplace=True)\n",
    "latlong.head()"
   ]
  },
  {
   "cell_type": "code",
   "execution_count": 32,
   "metadata": {
    "ExecuteTime": {
     "end_time": "2019-07-23T23:01:57.800813Z",
     "start_time": "2019-07-23T23:01:57.781183Z"
    }
   },
   "outputs": [
    {
     "data": {
      "text/html": [
       "<div>\n",
       "<style scoped>\n",
       "    .dataframe tbody tr th:only-of-type {\n",
       "        vertical-align: middle;\n",
       "    }\n",
       "\n",
       "    .dataframe tbody tr th {\n",
       "        vertical-align: top;\n",
       "    }\n",
       "\n",
       "    .dataframe thead th {\n",
       "        text-align: right;\n",
       "    }\n",
       "</style>\n",
       "<table border=\"1\" class=\"dataframe\">\n",
       "  <thead>\n",
       "    <tr style=\"text-align: right;\">\n",
       "      <th></th>\n",
       "      <th>airports</th>\n",
       "      <th>count</th>\n",
       "      <th>latitude</th>\n",
       "      <th>longitude</th>\n",
       "    </tr>\n",
       "  </thead>\n",
       "  <tbody>\n",
       "    <tr>\n",
       "      <th>0</th>\n",
       "      <td>ATL</td>\n",
       "      <td>55843</td>\n",
       "      <td>33.6558</td>\n",
       "      <td>-84.4333</td>\n",
       "    </tr>\n",
       "    <tr>\n",
       "      <th>1</th>\n",
       "      <td>ORD</td>\n",
       "      <td>45320</td>\n",
       "      <td>41.9796</td>\n",
       "      <td>-87.8825</td>\n",
       "    </tr>\n",
       "    <tr>\n",
       "      <th>2</th>\n",
       "      <td>DFW</td>\n",
       "      <td>41217</td>\n",
       "      <td>32.9222</td>\n",
       "      <td>-97.0409</td>\n",
       "    </tr>\n",
       "    <tr>\n",
       "      <th>3</th>\n",
       "      <td>CLT</td>\n",
       "      <td>34260</td>\n",
       "      <td>35.2226</td>\n",
       "      <td>-80.9460</td>\n",
       "    </tr>\n",
       "    <tr>\n",
       "      <th>4</th>\n",
       "      <td>DEN</td>\n",
       "      <td>32951</td>\n",
       "      <td>39.8396</td>\n",
       "      <td>-104.6720</td>\n",
       "    </tr>\n",
       "  </tbody>\n",
       "</table>\n",
       "</div>"
      ],
      "text/plain": [
       "  airports  count  latitude  longitude\n",
       "0      ATL  55843   33.6558   -84.4333\n",
       "1      ORD  45320   41.9796   -87.8825\n",
       "2      DFW  41217   32.9222   -97.0409\n",
       "3      CLT  34260   35.2226   -80.9460\n",
       "4      DEN  32951   39.8396  -104.6720"
      ]
     },
     "execution_count": 32,
     "metadata": {},
     "output_type": "execute_result"
    }
   ],
   "source": [
    "top20 = pd.merge(top20, latlong,how='left',on='airports')\n",
    "top20.head()"
   ]
  },
  {
   "cell_type": "code",
   "execution_count": 33,
   "metadata": {
    "ExecuteTime": {
     "end_time": "2019-07-23T23:02:08.226272Z",
     "start_time": "2019-07-23T23:02:08.085815Z"
    }
   },
   "outputs": [],
   "source": [
    "top20 = pd.DataFrame(airport['airports'].value_counts().head(20)).reset_index()\n",
    "top20.rename(index=str, columns={'index':'airports', 'airports':'count'},inplace=True)\n",
    "top20.head()\n",
    "\n",
    "top20 = pd.merge(top20, latlong, how='left', on='airports')\n",
    "\n",
    "# top20.to_csv('top20_airports_jan_feb.csv', index=False)"
   ]
  },
  {
   "cell_type": "markdown",
   "metadata": {},
   "source": [
    "Using the latitude and longitude information that I have merged into our new dataframe, I will plot the airports on a bubble map using plotly. To do this, first, I will have to create a text column with information regarding the airports and their counts."
   ]
  },
  {
   "cell_type": "code",
   "execution_count": 34,
   "metadata": {
    "ExecuteTime": {
     "end_time": "2019-07-23T23:02:12.276473Z",
     "start_time": "2019-07-23T23:02:10.911735Z"
    }
   },
   "outputs": [],
   "source": [
    "import plotly.plotly as py\n",
    "import plotly\n",
    "plotly.tools.set_credentials_file(username='amyksu', api_key='wQLY4WWAgKw2NNG6VuAB')"
   ]
  },
  {
   "cell_type": "code",
   "execution_count": 35,
   "metadata": {
    "ExecuteTime": {
     "end_time": "2019-07-23T23:02:13.886288Z",
     "start_time": "2019-07-23T23:02:13.790092Z"
    }
   },
   "outputs": [],
   "source": [
    "top20['text'] = top20['airports'] + '<br> Total Flights:' + (top20['count']/1e3).astype(str) + ' (Thousands)'"
   ]
  },
  {
   "cell_type": "markdown",
   "metadata": {},
   "source": [
    "Using plotly, I will create a plot. First, I will create 3 bins, the top 10, the 11th to 30th, and 31st to 50th airports. I will assign different colors to these groups, then name them."
   ]
  },
  {
   "cell_type": "code",
   "execution_count": 36,
   "metadata": {
    "ExecuteTime": {
     "end_time": "2019-07-23T23:02:21.326980Z",
     "start_time": "2019-07-23T23:02:19.361151Z"
    }
   },
   "outputs": [
    {
     "name": "stderr",
     "output_type": "stream",
     "text": [
      "/Users/amyksu/anaconda3/lib/python3.7/site-packages/IPython/core/display.py:689: UserWarning:\n",
      "\n",
      "Consider using IPython.display.IFrame instead\n",
      "\n"
     ]
    },
    {
     "data": {
      "text/html": [
       "<iframe id=\"igraph\" scrolling=\"no\" style=\"border:none;\" seamless=\"seamless\" src=\"https://plot.ly/~amyksu/14.embed\" height=\"525px\" width=\"100%\"></iframe>"
      ],
      "text/plain": [
       "<chart_studio.tools.PlotlyDisplay object>"
      ]
     },
     "execution_count": 36,
     "metadata": {},
     "output_type": "execute_result"
    }
   ],
   "source": [
    "#Create plot using Plotly\n",
    "limits = [(0,10),(11,15),(16,20)]\n",
    "colors = ['rgb(255, 192, 203)','rgb(162, 195, 189)','rgb(197, 138, 149)' ]\n",
    "names = [\"Top 10 Busiest\",\"11-15\",\"16-20\"]\n",
    "cities = []\n",
    "scale = 120\n",
    "\n",
    "for i in range(len(limits)):\n",
    "    lim = limits[i]\n",
    "    df_sub = top20[lim[0]:lim[1]]\n",
    "    city = dict(\n",
    "        type = 'scattergeo',\n",
    "        locationmode = 'USA-states',\n",
    "        lon = df_sub['longitude'],\n",
    "        lat = df_sub['latitude'],\n",
    "        text = df_sub['text'],\n",
    "        marker = dict(\n",
    "            size = df_sub['count']/scale,\n",
    "            color = colors[i],\n",
    "            line = dict(width=0.5, color='rgb(40,40,40)'),\n",
    "            sizemode = 'area'\n",
    "        ),\n",
    "        name = names[i] )\n",
    "    cities.append(city)\n",
    "    \n",
    "layout = dict(\n",
    "        title = 'Top 20 Busiest Airports by Traffic',\n",
    "        showlegend = True,\n",
    "        geo = dict(\n",
    "            scope='usa',\n",
    "            projection=dict( type='albers usa' ),\n",
    "            showland = True,\n",
    "            landcolor = 'rgb(217, 217, 217)',\n",
    "            subunitwidth=1,\n",
    "            countrywidth=1,\n",
    "            subunitcolor=\"rgb(255, 255, 255)\",\n",
    "            countrycolor=\"rgb(255, 255, 255)\"\n",
    "        ),\n",
    "    )\n",
    "\n",
    "fig = dict( data=cities, layout=layout )\n",
    "py.iplot( fig, validate=False, filename='d3-map-top20-airports')"
   ]
  },
  {
   "cell_type": "markdown",
   "metadata": {},
   "source": [
    "Next, I will plot the flight path for gliths with an average delay of more than 10 minutes. I will also use plotly to do this. \n",
    "\n",
    "First, I will make a subset from the data that contains only flights from the top 50 airports that were identified above."
   ]
  },
  {
   "cell_type": "code",
   "execution_count": 37,
   "metadata": {
    "ExecuteTime": {
     "end_time": "2019-07-23T23:02:27.126252Z",
     "start_time": "2019-07-23T23:02:26.961008Z"
    }
   },
   "outputs": [],
   "source": [
    "top20_airports = top20['airports'].tolist()\n",
    "sub = df[df['origin'].isin(top20_airports)]\n",
    "sub = sub[sub['dest'].isin(top20_airports)]"
   ]
  },
  {
   "cell_type": "markdown",
   "metadata": {},
   "source": [
    "Next, I will create a dataframe of the airports to plot the next plot."
   ]
  },
  {
   "cell_type": "code",
   "execution_count": 38,
   "metadata": {
    "ExecuteTime": {
     "end_time": "2019-07-23T23:02:29.108095Z",
     "start_time": "2019-07-23T23:02:29.042552Z"
    }
   },
   "outputs": [],
   "source": [
    "airport_df = pd.DataFrame(sub['origin'].unique())\n",
    "airport_df.rename(index=str, columns={0:'airports'}, inplace=True)\n",
    "\n",
    "airport_df = pd.merge(airport_df, latlong,how='left',on='airports')\n",
    "airport_df.head()\n",
    "\n",
    "airport_key = pd.read_csv('L_AIRPORT.csv')\n",
    "airport_key.rename(index=str, columns={'Code':'airports'}, inplace=True)\n",
    "airport_df = pd.merge(airport_df, airport_key, how='left', on='airports')"
   ]
  },
  {
   "cell_type": "code",
   "execution_count": 39,
   "metadata": {
    "ExecuteTime": {
     "end_time": "2019-07-23T23:02:30.786917Z",
     "start_time": "2019-07-23T23:02:30.775216Z"
    }
   },
   "outputs": [
    {
     "data": {
      "text/html": [
       "<div>\n",
       "<style scoped>\n",
       "    .dataframe tbody tr th:only-of-type {\n",
       "        vertical-align: middle;\n",
       "    }\n",
       "\n",
       "    .dataframe tbody tr th {\n",
       "        vertical-align: top;\n",
       "    }\n",
       "\n",
       "    .dataframe thead th {\n",
       "        text-align: right;\n",
       "    }\n",
       "</style>\n",
       "<table border=\"1\" class=\"dataframe\">\n",
       "  <thead>\n",
       "    <tr style=\"text-align: right;\">\n",
       "      <th></th>\n",
       "      <th>airports</th>\n",
       "      <th>latitude</th>\n",
       "      <th>longitude</th>\n",
       "      <th>Description</th>\n",
       "    </tr>\n",
       "  </thead>\n",
       "  <tbody>\n",
       "    <tr>\n",
       "      <th>0</th>\n",
       "      <td>JFK</td>\n",
       "      <td>40.6437</td>\n",
       "      <td>-73.7900</td>\n",
       "      <td>New York, NY: John F. Kennedy International</td>\n",
       "    </tr>\n",
       "    <tr>\n",
       "      <th>1</th>\n",
       "      <td>LAX</td>\n",
       "      <td>33.9456</td>\n",
       "      <td>-118.3910</td>\n",
       "      <td>Los Angeles, CA: Los Angeles International</td>\n",
       "    </tr>\n",
       "    <tr>\n",
       "      <th>2</th>\n",
       "      <td>MSP</td>\n",
       "      <td>44.8793</td>\n",
       "      <td>-93.1987</td>\n",
       "      <td>Minneapolis, MN: Minneapolis-St Paul Internati...</td>\n",
       "    </tr>\n",
       "    <tr>\n",
       "      <th>3</th>\n",
       "      <td>ORD</td>\n",
       "      <td>41.9796</td>\n",
       "      <td>-87.8825</td>\n",
       "      <td>Chicago, IL: Chicago O'Hare International</td>\n",
       "    </tr>\n",
       "    <tr>\n",
       "      <th>4</th>\n",
       "      <td>SFO</td>\n",
       "      <td>37.6148</td>\n",
       "      <td>-122.3920</td>\n",
       "      <td>San Francisco, CA: San Francisco International</td>\n",
       "    </tr>\n",
       "  </tbody>\n",
       "</table>\n",
       "</div>"
      ],
      "text/plain": [
       "  airports  latitude  longitude  \\\n",
       "0      JFK   40.6437   -73.7900   \n",
       "1      LAX   33.9456  -118.3910   \n",
       "2      MSP   44.8793   -93.1987   \n",
       "3      ORD   41.9796   -87.8825   \n",
       "4      SFO   37.6148  -122.3920   \n",
       "\n",
       "                                         Description  \n",
       "0        New York, NY: John F. Kennedy International  \n",
       "1         Los Angeles, CA: Los Angeles International  \n",
       "2  Minneapolis, MN: Minneapolis-St Paul Internati...  \n",
       "3          Chicago, IL: Chicago O'Hare International  \n",
       "4     San Francisco, CA: San Francisco International  "
      ]
     },
     "execution_count": 39,
     "metadata": {},
     "output_type": "execute_result"
    }
   ],
   "source": [
    "airport_df.head()"
   ]
  },
  {
   "cell_type": "markdown",
   "metadata": {},
   "source": [
    "Now, I will create a dataframe with the flight paths, keeping only flights with an average delay of more than 30 minutes. This dataframe will also include the start and end latitude and longitude for each flight."
   ]
  },
  {
   "cell_type": "code",
   "execution_count": 40,
   "metadata": {
    "ExecuteTime": {
     "end_time": "2019-07-23T23:03:40.454934Z",
     "start_time": "2019-07-23T23:03:40.396472Z"
    }
   },
   "outputs": [],
   "source": [
    "flight_df = sub[['origin', 'dest', 'arr_delay']].groupby(by=['origin','dest']).mean()\n",
    "flight_df.reset_index(inplace=True)\n",
    "flight_df['arr_delay'] = flight_df['arr_delay'].apply(lambda x: 0 if x<0 else round(x))\n",
    "flight_df.dropna(inplace=True)\n",
    "flight_df = flight_df[flight_df['arr_delay']>=30]"
   ]
  },
  {
   "cell_type": "code",
   "execution_count": 41,
   "metadata": {
    "ExecuteTime": {
     "end_time": "2019-07-23T23:03:41.531762Z",
     "start_time": "2019-07-23T23:03:41.500848Z"
    }
   },
   "outputs": [
    {
     "data": {
      "text/html": [
       "<div>\n",
       "<style scoped>\n",
       "    .dataframe tbody tr th:only-of-type {\n",
       "        vertical-align: middle;\n",
       "    }\n",
       "\n",
       "    .dataframe tbody tr th {\n",
       "        vertical-align: top;\n",
       "    }\n",
       "\n",
       "    .dataframe thead th {\n",
       "        text-align: right;\n",
       "    }\n",
       "</style>\n",
       "<table border=\"1\" class=\"dataframe\">\n",
       "  <thead>\n",
       "    <tr style=\"text-align: right;\">\n",
       "      <th></th>\n",
       "      <th>origin</th>\n",
       "      <th>dest</th>\n",
       "      <th>arr_delay</th>\n",
       "      <th>start_lat</th>\n",
       "      <th>start_lon</th>\n",
       "      <th>end_lat</th>\n",
       "      <th>end_lon</th>\n",
       "    </tr>\n",
       "  </thead>\n",
       "  <tbody>\n",
       "    <tr>\n",
       "      <th>0</th>\n",
       "      <td>BOS</td>\n",
       "      <td>LAS</td>\n",
       "      <td>35</td>\n",
       "      <td>42.3717</td>\n",
       "      <td>-71.0281</td>\n",
       "      <td>36.0806</td>\n",
       "      <td>-115.1430</td>\n",
       "    </tr>\n",
       "    <tr>\n",
       "      <th>1</th>\n",
       "      <td>BOS</td>\n",
       "      <td>MSP</td>\n",
       "      <td>34</td>\n",
       "      <td>42.3717</td>\n",
       "      <td>-71.0281</td>\n",
       "      <td>44.8793</td>\n",
       "      <td>-93.1987</td>\n",
       "    </tr>\n",
       "    <tr>\n",
       "      <th>2</th>\n",
       "      <td>DEN</td>\n",
       "      <td>SFO</td>\n",
       "      <td>31</td>\n",
       "      <td>39.8396</td>\n",
       "      <td>-104.6720</td>\n",
       "      <td>37.6148</td>\n",
       "      <td>-122.3920</td>\n",
       "    </tr>\n",
       "    <tr>\n",
       "      <th>3</th>\n",
       "      <td>MSP</td>\n",
       "      <td>DFW</td>\n",
       "      <td>31</td>\n",
       "      <td>44.8793</td>\n",
       "      <td>-93.1987</td>\n",
       "      <td>32.9222</td>\n",
       "      <td>-97.0409</td>\n",
       "    </tr>\n",
       "    <tr>\n",
       "      <th>4</th>\n",
       "      <td>MSP</td>\n",
       "      <td>ORD</td>\n",
       "      <td>35</td>\n",
       "      <td>44.8793</td>\n",
       "      <td>-93.1987</td>\n",
       "      <td>41.9796</td>\n",
       "      <td>-87.8825</td>\n",
       "    </tr>\n",
       "  </tbody>\n",
       "</table>\n",
       "</div>"
      ],
      "text/plain": [
       "  origin dest  arr_delay  start_lat  start_lon  end_lat   end_lon\n",
       "0    BOS  LAS         35    42.3717   -71.0281  36.0806 -115.1430\n",
       "1    BOS  MSP         34    42.3717   -71.0281  44.8793  -93.1987\n",
       "2    DEN  SFO         31    39.8396  -104.6720  37.6148 -122.3920\n",
       "3    MSP  DFW         31    44.8793   -93.1987  32.9222  -97.0409\n",
       "4    MSP  ORD         35    44.8793   -93.1987  41.9796  -87.8825"
      ]
     },
     "execution_count": 41,
     "metadata": {},
     "output_type": "execute_result"
    }
   ],
   "source": [
    "# add departure latitude/longitude\n",
    "flight_df = pd.merge(flight_df, airport_df[['airports', 'latitude', 'longitude']], how='left', left_on='origin', right_on='airports')\n",
    "flight_df.rename(index=str, columns={'latitude':'start_lat', 'longitude':'start_lon'}, inplace=True)\n",
    "\n",
    "# add arrival latitude/longitude\n",
    "flight_df = pd.merge(flight_df, airport_df[['airports', 'latitude', 'longitude']], how='left', left_on='dest', right_on='airports')\n",
    "flight_df.rename(index=str, columns={'latitude':'end_lat', 'longitude':'end_lon'}, inplace=True)\n",
    "\n",
    "flight_df.drop(['airports_x', 'airports_y'], axis=1, inplace=True)\n",
    "flight_df.head()"
   ]
  },
  {
   "cell_type": "code",
   "execution_count": 28,
   "metadata": {
    "ExecuteTime": {
     "end_time": "2019-05-06T20:10:26.188783Z",
     "start_time": "2019-05-06T20:10:26.174431Z"
    }
   },
   "outputs": [],
   "source": [
    "flight_df.to_csv('flight.csv',index=False)"
   ]
  },
  {
   "cell_type": "markdown",
   "metadata": {},
   "source": [
    "Because of the way the plot is formatted, flights to Honolulu will not be accurately represented. As such, I will remove them from the dataframe."
   ]
  },
  {
   "cell_type": "code",
   "execution_count": 43,
   "metadata": {
    "ExecuteTime": {
     "end_time": "2019-07-23T23:04:03.041606Z",
     "start_time": "2019-07-23T23:04:03.033312Z"
    }
   },
   "outputs": [],
   "source": [
    "flight_df = flight_df[flight_df['origin']!= 'HNL'].copy()\n",
    "flight_df = flight_df[flight_df['dest']!= 'HNL'].copy()\n",
    "airport_df = airport_df[airport_df['airports'] != 'HNL'].copy()"
   ]
  },
  {
   "cell_type": "code",
   "execution_count": 45,
   "metadata": {
    "ExecuteTime": {
     "end_time": "2019-07-23T23:04:32.151651Z",
     "start_time": "2019-07-23T23:04:30.798323Z"
    },
    "scrolled": false
   },
   "outputs": [
    {
     "name": "stderr",
     "output_type": "stream",
     "text": [
      "/Users/amyksu/anaconda3/lib/python3.7/site-packages/IPython/core/display.py:689: UserWarning:\n",
      "\n",
      "Consider using IPython.display.IFrame instead\n",
      "\n"
     ]
    },
    {
     "data": {
      "text/html": [
       "<iframe id=\"igraph\" scrolling=\"no\" style=\"border:none;\" seamless=\"seamless\" src=\"https://plot.ly/~amyksu/18.embed\" height=\"525px\" width=\"100%\"></iframe>"
      ],
      "text/plain": [
       "<chart_studio.tools.PlotlyDisplay object>"
      ]
     },
     "execution_count": 45,
     "metadata": {},
     "output_type": "execute_result"
    }
   ],
   "source": [
    "airports = [ dict(\n",
    "        type = 'scattergeo',\n",
    "        locationmode = 'USA-states',\n",
    "        lon = airport_df['longitude'],\n",
    "        lat = airport_df['latitude'],\n",
    "        hoverinfo = 'text',\n",
    "        text = airport_df['Description'],\n",
    "        mode = 'markers',\n",
    "        marker = dict( \n",
    "            size=2, \n",
    "            color='rgb(0, 0, 0)',\n",
    "            line = dict(\n",
    "                width=3,\n",
    "                color='rgba(68, 68, 68, 0)'\n",
    "            )\n",
    "        ))]\n",
    "        \n",
    "flight_paths = []\n",
    "for i in range(len(flight_df)):\n",
    "    flight_paths.append(\n",
    "        dict(\n",
    "            type = 'scattergeo',\n",
    "            locationmode = 'USA-states',\n",
    "            lon = [flight_df['start_lon'][i], flight_df['end_lon'][i]],\n",
    "            lat = [flight_df['start_lat'][i], flight_df['end_lat'][i]],\n",
    "            mode = 'lines',\n",
    "            line = dict(\n",
    "                #width = 5,\n",
    "                width = (float((flight_df['arr_delay'][i]-1)-flight_df['arr_delay'].min())/(float(flight_df['arr_delay'].max()-flight_df['arr_delay'].min())/2.0))+2,\n",
    "                color = 'rgb(255, 51, 119)'\n",
    "            ),\n",
    "            #opacity = 1\n",
    "            opacity = float(flight_df['arr_delay'][i])/float(flight_df['arr_delay'].max()),\n",
    "        )\n",
    "    )\n",
    "    \n",
    "layout = dict(\n",
    "        title = 'Routes with an average delay of more than 30 minutes (January and February 2019)',\n",
    "        showlegend = False, \n",
    "        geo = dict(\n",
    "            scope='usa',\n",
    "            projection=dict( type='albers usa' ),\n",
    "            #scope='north america',\n",
    "            #projection=dict( type='azimuthal equal area' ),\n",
    "            showland = True,\n",
    "            landcolor = 'rgb(217, 217, 217)',\n",
    "            countrycolor = 'rgb(255, 255, 255)',\n",
    "        ),\n",
    "    )\n",
    "    \n",
    "fig = dict( data=flight_paths + airports, layout=layout )\n",
    "py.iplot( fig, filename='d3-top20-greater30-flight-paths' )"
   ]
  },
  {
   "cell_type": "code",
   "execution_count": null,
   "metadata": {},
   "outputs": [],
   "source": []
  }
 ],
 "metadata": {
  "kernelspec": {
   "display_name": "Python 3",
   "language": "python",
   "name": "python3"
  },
  "language_info": {
   "codemirror_mode": {
    "name": "ipython",
    "version": 3
   },
   "file_extension": ".py",
   "mimetype": "text/x-python",
   "name": "python",
   "nbconvert_exporter": "python",
   "pygments_lexer": "ipython3",
   "version": "3.7.1"
  },
  "varInspector": {
   "cols": {
    "lenName": 16,
    "lenType": 16,
    "lenVar": 40
   },
   "kernels_config": {
    "python": {
     "delete_cmd_postfix": "",
     "delete_cmd_prefix": "del ",
     "library": "var_list.py",
     "varRefreshCmd": "print(var_dic_list())"
    },
    "r": {
     "delete_cmd_postfix": ") ",
     "delete_cmd_prefix": "rm(",
     "library": "var_list.r",
     "varRefreshCmd": "cat(var_dic_list()) "
    }
   },
   "types_to_exclude": [
    "module",
    "function",
    "builtin_function_or_method",
    "instance",
    "_Feature"
   ],
   "window_display": false
  }
 },
 "nbformat": 4,
 "nbformat_minor": 2
}
